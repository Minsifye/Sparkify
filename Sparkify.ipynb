{
 "cells": [
  {
   "cell_type": "markdown",
   "metadata": {},
   "source": [
    "# Sparkify Project Workspace\n",
    "This workspace contains a tiny subset (128MB) of the full dataset available (12GB). Feel free to use this workspace to build your project, or to explore a smaller subset with Spark before deploying your cluster on the cloud. Instructions for setting up your Spark cluster is included in the last lesson of the Extracurricular Spark Course content.\n",
    "\n",
    "You can follow the steps below to guide your data analysis and model building portion of this project."
   ]
  },
  {
   "cell_type": "code",
   "execution_count": 1,
   "metadata": {},
   "outputs": [],
   "source": [
    "# import libraries\n",
    "from pyspark.sql import SparkSession\n",
    "from pyspark.sql.functions import avg, col, concat, count, desc, explode, lit, min, max, split, stddev, udf\n",
    "from pyspark.sql.types import IntegerType\n",
    "from pyspark.ml.feature import RegexTokenizer, VectorAssembler\n",
    "from pyspark.ml.regression import LinearRegression\n",
    "from pyspark.ml.clustering import KMeans\n",
    "import datetime\n",
    "import pandas as pd\n",
    "import numpy as np\n",
    "import seaborn as sns\n",
    "import matplotlib.pyplot as plt\n",
    "%matplotlib inline\n",
    "\n"
   ]
  },
  {
   "cell_type": "code",
   "execution_count": 172,
   "metadata": {},
   "outputs": [],
   "source": [
    "from pyspark.ml import Pipeline\n",
    "from pyspark.ml.classification import LogisticRegression, RandomForestClassifier\n",
    "from pyspark.ml.evaluation import BinaryClassificationEvaluator, MulticlassClassificationEvaluator\n",
    "from pyspark.ml.feature import CountVectorizer, IDF, Normalizer, PCA, RegexTokenizer, StandardScaler, StopWordsRemover, StringIndexer, VectorAssembler\n",
    "from pyspark.ml.tuning import CrossValidator, ParamGridBuilder\n",
    "import re"
   ]
  },
  {
   "cell_type": "code",
   "execution_count": 3,
   "metadata": {},
   "outputs": [],
   "source": [
    "# create a Spark session\n",
    "spark = SparkSession.builder \\\n",
    "    .master(\"local\") \\\n",
    "    .appName(\"Sparkify\") \\\n",
    "    .getOrCreate()"
   ]
  },
  {
   "cell_type": "code",
   "execution_count": null,
   "metadata": {},
   "outputs": [],
   "source": []
  },
  {
   "cell_type": "markdown",
   "metadata": {},
   "source": [
    "# Load and Clean Dataset\n",
    "In this workspace, the mini-dataset file is `mini_sparkify_event_data.json`. Load and clean the dataset, checking for invalid or missing data - for example, records without userids or sessionids. "
   ]
  },
  {
   "cell_type": "code",
   "execution_count": 4,
   "metadata": {},
   "outputs": [],
   "source": [
    "df = spark.read.json(\"mini_sparkify_event_data.json\")"
   ]
  },
  {
   "cell_type": "code",
   "execution_count": 5,
   "metadata": {},
   "outputs": [
    {
     "name": "stdout",
     "output_type": "stream",
     "text": [
      "root\n",
      " |-- artist: string (nullable = true)\n",
      " |-- auth: string (nullable = true)\n",
      " |-- firstName: string (nullable = true)\n",
      " |-- gender: string (nullable = true)\n",
      " |-- itemInSession: long (nullable = true)\n",
      " |-- lastName: string (nullable = true)\n",
      " |-- length: double (nullable = true)\n",
      " |-- level: string (nullable = true)\n",
      " |-- location: string (nullable = true)\n",
      " |-- method: string (nullable = true)\n",
      " |-- page: string (nullable = true)\n",
      " |-- registration: long (nullable = true)\n",
      " |-- sessionId: long (nullable = true)\n",
      " |-- song: string (nullable = true)\n",
      " |-- status: long (nullable = true)\n",
      " |-- ts: long (nullable = true)\n",
      " |-- userAgent: string (nullable = true)\n",
      " |-- userId: string (nullable = true)\n",
      "\n"
     ]
    }
   ],
   "source": [
    "df.printSchema()"
   ]
  },
  {
   "cell_type": "code",
   "execution_count": 6,
   "metadata": {},
   "outputs": [
    {
     "data": {
      "text/plain": [
       "286500"
      ]
     },
     "execution_count": 6,
     "metadata": {},
     "output_type": "execute_result"
    }
   ],
   "source": [
    "# Number of rows in this dataset\n",
    "previous_count = df.count()\n",
    "previous_count"
   ]
  },
  {
   "cell_type": "code",
   "execution_count": 7,
   "metadata": {},
   "outputs": [
    {
     "data": {
      "text/plain": [
       "[Row(artist='Martha Tilston', auth='Logged In', firstName='Colin', gender='M', itemInSession=50, lastName='Freeman', length=277.89016, level='paid', location='Bakersfield, CA', method='PUT', page='NextSong', registration=1538173362000, sessionId=29, song='Rockpools', status=200, ts=1538352117000, userAgent='Mozilla/5.0 (Windows NT 6.1; WOW64; rv:31.0) Gecko/20100101 Firefox/31.0', userId='30'),\n",
       " Row(artist='Five Iron Frenzy', auth='Logged In', firstName='Micah', gender='M', itemInSession=79, lastName='Long', length=236.09424, level='free', location='Boston-Cambridge-Newton, MA-NH', method='PUT', page='NextSong', registration=1538331630000, sessionId=8, song='Canada', status=200, ts=1538352180000, userAgent='\"Mozilla/5.0 (Windows NT 6.1; WOW64) AppleWebKit/537.36 (KHTML, like Gecko) Chrome/37.0.2062.103 Safari/537.36\"', userId='9')]"
      ]
     },
     "execution_count": 7,
     "metadata": {},
     "output_type": "execute_result"
    }
   ],
   "source": [
    "df.take(2)"
   ]
  },
  {
   "cell_type": "code",
   "execution_count": 8,
   "metadata": {},
   "outputs": [
    {
     "data": {
      "text/html": [
       "<div>\n",
       "<style scoped>\n",
       "    .dataframe tbody tr th:only-of-type {\n",
       "        vertical-align: middle;\n",
       "    }\n",
       "\n",
       "    .dataframe tbody tr th {\n",
       "        vertical-align: top;\n",
       "    }\n",
       "\n",
       "    .dataframe thead th {\n",
       "        text-align: right;\n",
       "    }\n",
       "</style>\n",
       "<table border=\"1\" class=\"dataframe\">\n",
       "  <thead>\n",
       "    <tr style=\"text-align: right;\">\n",
       "      <th></th>\n",
       "      <th>artist</th>\n",
       "      <th>auth</th>\n",
       "      <th>firstName</th>\n",
       "      <th>gender</th>\n",
       "      <th>itemInSession</th>\n",
       "      <th>lastName</th>\n",
       "      <th>length</th>\n",
       "      <th>level</th>\n",
       "      <th>location</th>\n",
       "      <th>method</th>\n",
       "      <th>page</th>\n",
       "      <th>registration</th>\n",
       "      <th>sessionId</th>\n",
       "      <th>song</th>\n",
       "      <th>status</th>\n",
       "      <th>ts</th>\n",
       "      <th>userAgent</th>\n",
       "      <th>userId</th>\n",
       "    </tr>\n",
       "  </thead>\n",
       "  <tbody>\n",
       "    <tr>\n",
       "      <th>0</th>\n",
       "      <td>Martha Tilston</td>\n",
       "      <td>Logged In</td>\n",
       "      <td>Colin</td>\n",
       "      <td>M</td>\n",
       "      <td>50</td>\n",
       "      <td>Freeman</td>\n",
       "      <td>277.89016</td>\n",
       "      <td>paid</td>\n",
       "      <td>Bakersfield, CA</td>\n",
       "      <td>PUT</td>\n",
       "      <td>NextSong</td>\n",
       "      <td>1.538173e+12</td>\n",
       "      <td>29</td>\n",
       "      <td>Rockpools</td>\n",
       "      <td>200</td>\n",
       "      <td>1538352117000</td>\n",
       "      <td>Mozilla/5.0 (Windows NT 6.1; WOW64; rv:31.0) G...</td>\n",
       "      <td>30</td>\n",
       "    </tr>\n",
       "    <tr>\n",
       "      <th>1</th>\n",
       "      <td>Five Iron Frenzy</td>\n",
       "      <td>Logged In</td>\n",
       "      <td>Micah</td>\n",
       "      <td>M</td>\n",
       "      <td>79</td>\n",
       "      <td>Long</td>\n",
       "      <td>236.09424</td>\n",
       "      <td>free</td>\n",
       "      <td>Boston-Cambridge-Newton, MA-NH</td>\n",
       "      <td>PUT</td>\n",
       "      <td>NextSong</td>\n",
       "      <td>1.538332e+12</td>\n",
       "      <td>8</td>\n",
       "      <td>Canada</td>\n",
       "      <td>200</td>\n",
       "      <td>1538352180000</td>\n",
       "      <td>\"Mozilla/5.0 (Windows NT 6.1; WOW64) AppleWebK...</td>\n",
       "      <td>9</td>\n",
       "    </tr>\n",
       "    <tr>\n",
       "      <th>2</th>\n",
       "      <td>Adam Lambert</td>\n",
       "      <td>Logged In</td>\n",
       "      <td>Colin</td>\n",
       "      <td>M</td>\n",
       "      <td>51</td>\n",
       "      <td>Freeman</td>\n",
       "      <td>282.82730</td>\n",
       "      <td>paid</td>\n",
       "      <td>Bakersfield, CA</td>\n",
       "      <td>PUT</td>\n",
       "      <td>NextSong</td>\n",
       "      <td>1.538173e+12</td>\n",
       "      <td>29</td>\n",
       "      <td>Time For Miracles</td>\n",
       "      <td>200</td>\n",
       "      <td>1538352394000</td>\n",
       "      <td>Mozilla/5.0 (Windows NT 6.1; WOW64; rv:31.0) G...</td>\n",
       "      <td>30</td>\n",
       "    </tr>\n",
       "    <tr>\n",
       "      <th>3</th>\n",
       "      <td>Enigma</td>\n",
       "      <td>Logged In</td>\n",
       "      <td>Micah</td>\n",
       "      <td>M</td>\n",
       "      <td>80</td>\n",
       "      <td>Long</td>\n",
       "      <td>262.71302</td>\n",
       "      <td>free</td>\n",
       "      <td>Boston-Cambridge-Newton, MA-NH</td>\n",
       "      <td>PUT</td>\n",
       "      <td>NextSong</td>\n",
       "      <td>1.538332e+12</td>\n",
       "      <td>8</td>\n",
       "      <td>Knocking On Forbidden Doors</td>\n",
       "      <td>200</td>\n",
       "      <td>1538352416000</td>\n",
       "      <td>\"Mozilla/5.0 (Windows NT 6.1; WOW64) AppleWebK...</td>\n",
       "      <td>9</td>\n",
       "    </tr>\n",
       "    <tr>\n",
       "      <th>4</th>\n",
       "      <td>Daft Punk</td>\n",
       "      <td>Logged In</td>\n",
       "      <td>Colin</td>\n",
       "      <td>M</td>\n",
       "      <td>52</td>\n",
       "      <td>Freeman</td>\n",
       "      <td>223.60771</td>\n",
       "      <td>paid</td>\n",
       "      <td>Bakersfield, CA</td>\n",
       "      <td>PUT</td>\n",
       "      <td>NextSong</td>\n",
       "      <td>1.538173e+12</td>\n",
       "      <td>29</td>\n",
       "      <td>Harder Better Faster Stronger</td>\n",
       "      <td>200</td>\n",
       "      <td>1538352676000</td>\n",
       "      <td>Mozilla/5.0 (Windows NT 6.1; WOW64; rv:31.0) G...</td>\n",
       "      <td>30</td>\n",
       "    </tr>\n",
       "  </tbody>\n",
       "</table>\n",
       "</div>"
      ],
      "text/plain": [
       "             artist       auth firstName gender  itemInSession lastName  \\\n",
       "0    Martha Tilston  Logged In     Colin      M             50  Freeman   \n",
       "1  Five Iron Frenzy  Logged In     Micah      M             79     Long   \n",
       "2      Adam Lambert  Logged In     Colin      M             51  Freeman   \n",
       "3            Enigma  Logged In     Micah      M             80     Long   \n",
       "4         Daft Punk  Logged In     Colin      M             52  Freeman   \n",
       "\n",
       "      length level                        location method      page  \\\n",
       "0  277.89016  paid                 Bakersfield, CA    PUT  NextSong   \n",
       "1  236.09424  free  Boston-Cambridge-Newton, MA-NH    PUT  NextSong   \n",
       "2  282.82730  paid                 Bakersfield, CA    PUT  NextSong   \n",
       "3  262.71302  free  Boston-Cambridge-Newton, MA-NH    PUT  NextSong   \n",
       "4  223.60771  paid                 Bakersfield, CA    PUT  NextSong   \n",
       "\n",
       "   registration  sessionId                           song  status  \\\n",
       "0  1.538173e+12         29                      Rockpools     200   \n",
       "1  1.538332e+12          8                         Canada     200   \n",
       "2  1.538173e+12         29              Time For Miracles     200   \n",
       "3  1.538332e+12          8    Knocking On Forbidden Doors     200   \n",
       "4  1.538173e+12         29  Harder Better Faster Stronger     200   \n",
       "\n",
       "              ts                                          userAgent userId  \n",
       "0  1538352117000  Mozilla/5.0 (Windows NT 6.1; WOW64; rv:31.0) G...     30  \n",
       "1  1538352180000  \"Mozilla/5.0 (Windows NT 6.1; WOW64) AppleWebK...      9  \n",
       "2  1538352394000  Mozilla/5.0 (Windows NT 6.1; WOW64; rv:31.0) G...     30  \n",
       "3  1538352416000  \"Mozilla/5.0 (Windows NT 6.1; WOW64) AppleWebK...      9  \n",
       "4  1538352676000  Mozilla/5.0 (Windows NT 6.1; WOW64; rv:31.0) G...     30  "
      ]
     },
     "execution_count": 8,
     "metadata": {},
     "output_type": "execute_result"
    }
   ],
   "source": [
    "# Table form of dataset\n",
    "df.select(df.columns).toPandas().head()"
   ]
  },
  {
   "cell_type": "markdown",
   "metadata": {},
   "source": [
    "### Investigate Authorization"
   ]
  },
  {
   "cell_type": "code",
   "execution_count": 9,
   "metadata": {},
   "outputs": [
    {
     "name": "stdout",
     "output_type": "stream",
     "text": [
      "+----------+\n",
      "|      auth|\n",
      "+----------+\n",
      "|Logged Out|\n",
      "| Cancelled|\n",
      "|     Guest|\n",
      "| Logged In|\n",
      "+----------+\n",
      "\n"
     ]
    }
   ],
   "source": [
    "# Types of authorization\n",
    "df.select('auth').dropDuplicates().show()"
   ]
  },
  {
   "cell_type": "code",
   "execution_count": 10,
   "metadata": {},
   "outputs": [
    {
     "name": "stdout",
     "output_type": "stream",
     "text": [
      "+------+-----+---------+--------------------+------+\n",
      "|userId|level|sessionId|                page|gender|\n",
      "+------+-----+---------+--------------------+------+\n",
      "|100011| free|       40|Cancellation Conf...|     M|\n",
      "|     3| paid|     1324|Cancellation Conf...|     M|\n",
      "|    18| paid|      514|Cancellation Conf...|     M|\n",
      "|100019| free|       71|Cancellation Conf...|     M|\n",
      "|200020| free|      351|Cancellation Conf...|     M|\n",
      "|   125| free|      174|Cancellation Conf...|     M|\n",
      "|    53| paid|     2003|Cancellation Conf...|     M|\n",
      "|200024| paid|      208|Cancellation Conf...|     M|\n",
      "|   106| paid|     1383|Cancellation Conf...|     F|\n",
      "|    54| paid|     1819|Cancellation Conf...|     F|\n",
      "|   103| paid|     1583|Cancellation Conf...|     F|\n",
      "|100012| free|      156|Cancellation Conf...|     M|\n",
      "|100023| paid|      109|Cancellation Conf...|     M|\n",
      "|    51| paid|      934|Cancellation Conf...|     M|\n",
      "|    70| paid|     1940|Cancellation Conf...|     M|\n",
      "|100015| paid|      188|Cancellation Conf...|     F|\n",
      "|200017| paid|      301|Cancellation Conf...|     M|\n",
      "|    29| paid|     1864|Cancellation Conf...|     M|\n",
      "|100005| free|      115|Cancellation Conf...|     M|\n",
      "|    87| paid|     1092|Cancellation Conf...|     M|\n",
      "+------+-----+---------+--------------------+------+\n",
      "only showing top 20 rows\n",
      "\n"
     ]
    }
   ],
   "source": [
    "# let's find Cancelled user's activity\n",
    "\n",
    "df.filter(df.auth=='Cancelled').select(['userId', 'level', 'sessionId', 'page', 'gender']).dropDuplicates().show()"
   ]
  },
  {
   "cell_type": "code",
   "execution_count": 11,
   "metadata": {},
   "outputs": [
    {
     "name": "stdout",
     "output_type": "stream",
     "text": [
      "+------+-----+---------+-------------------+------+----+\n",
      "|userId|level|sessionId|               page|gender|song|\n",
      "+------+-----+---------+-------------------+------+----+\n",
      "|      | free|     1719|           Register|  null|null|\n",
      "|      | free|      152|               Home|  null|null|\n",
      "|      | free|     2288|               Help|  null|null|\n",
      "|      | free|     2288|Submit Registration|  null|null|\n",
      "|      | free|      155|              About|  null|null|\n",
      "|      | free|     1402|           Register|  null|null|\n",
      "|      | free|     1506|Submit Registration|  null|null|\n",
      "|      | free|      151|              Error|  null|null|\n",
      "|      | free|      151|               Home|  null|null|\n",
      "|      | free|      155|               Help|  null|null|\n",
      "|      | free|      153|              About|  null|null|\n",
      "|      | free|     1506|           Register|  null|null|\n",
      "|      | free|      154|           Register|  null|null|\n",
      "|      | free|     1717|               Help|  null|null|\n",
      "|      | free|      151|           Register|  null|null|\n",
      "|      | free|      153|           Register|  null|null|\n",
      "|      | free|      155|           Register|  null|null|\n",
      "|      | free|     1719|Submit Registration|  null|null|\n",
      "|      | free|      151|              About|  null|null|\n",
      "|      | free|      152|              About|  null|null|\n",
      "+------+-----+---------+-------------------+------+----+\n",
      "only showing top 20 rows\n",
      "\n"
     ]
    }
   ],
   "source": [
    "# let's find Guest user's activity\n",
    "\n",
    "df.filter(df.auth=='Guest').select(['userId', 'level', 'sessionId', 'page', 'gender', 'song']).dropDuplicates().show()"
   ]
  },
  {
   "cell_type": "markdown",
   "metadata": {},
   "source": [
    "**To stop customer churning, we need UserID information, because with that we can find our target customer and offer them a deal before they leave the Sparkify platform. Therefore, Let's remove all rows with NULL or Empty UserID**"
   ]
  },
  {
   "cell_type": "code",
   "execution_count": 12,
   "metadata": {},
   "outputs": [
    {
     "name": "stdout",
     "output_type": "stream",
     "text": [
      "Deleted: 0 \n",
      "Current Count: 286500\n"
     ]
    }
   ],
   "source": [
    "df = df.dropna(how = \"any\", subset = [\"userId\", \"sessionId\"])\n",
    "current_count = df.count()\n",
    "print(\"Deleted: {} \\nCurrent Count: {}\".format(previous_count-current_count, current_count))"
   ]
  },
  {
   "cell_type": "code",
   "execution_count": 13,
   "metadata": {},
   "outputs": [
    {
     "name": "stdout",
     "output_type": "stream",
     "text": [
      "Deleted: 8346 \n",
      "Current Count: 278154\n"
     ]
    }
   ],
   "source": [
    "df = df.filter(df.userId!=\"\")\n",
    "current_count = df.count()\n",
    "print(\"Deleted: {} \\nCurrent Count: {}\".format(previous_count-current_count, current_count))"
   ]
  },
  {
   "cell_type": "markdown",
   "metadata": {},
   "source": [
    "### Investigate Pages"
   ]
  },
  {
   "cell_type": "code",
   "execution_count": 14,
   "metadata": {},
   "outputs": [
    {
     "name": "stdout",
     "output_type": "stream",
     "text": [
      "+--------------------+\n",
      "|                page|\n",
      "+--------------------+\n",
      "|              Cancel|\n",
      "|    Submit Downgrade|\n",
      "|         Thumbs Down|\n",
      "|                Home|\n",
      "|           Downgrade|\n",
      "|         Roll Advert|\n",
      "|              Logout|\n",
      "|       Save Settings|\n",
      "|Cancellation Conf...|\n",
      "|               About|\n",
      "|            Settings|\n",
      "|     Add to Playlist|\n",
      "|          Add Friend|\n",
      "|            NextSong|\n",
      "|           Thumbs Up|\n",
      "|                Help|\n",
      "|             Upgrade|\n",
      "|               Error|\n",
      "|      Submit Upgrade|\n",
      "+--------------------+\n",
      "\n"
     ]
    }
   ],
   "source": [
    "df.select(\"page\").dropDuplicates().show()"
   ]
  },
  {
   "cell_type": "code",
   "execution_count": 15,
   "metadata": {},
   "outputs": [
    {
     "name": "stdout",
     "output_type": "stream",
     "text": [
      "+------+-----+---------+------+\n",
      "|userId|level|sessionId|gender|\n",
      "+------+-----+---------+------+\n",
      "|200016| free|      347|     F|\n",
      "|    87| paid|     1092|     M|\n",
      "|   125| free|      174|     M|\n",
      "|   106| paid|     1383|     F|\n",
      "|   122| paid|     1029|     F|\n",
      "|100024| free|       42|     M|\n",
      "|    17| paid|      797|     F|\n",
      "|     3| paid|     1324|     M|\n",
      "|200011| free|      267|     M|\n",
      "|    28| paid|     1519|     F|\n",
      "|100022| free|      191|     F|\n",
      "|200001| free|      136|     M|\n",
      "|   105| paid|      508|     M|\n",
      "|200018| free|      268|     M|\n",
      "|100006| free|        6|     F|\n",
      "|100025| free|      129|     F|\n",
      "|100023| paid|      109|     M|\n",
      "|    18| paid|      514|     M|\n",
      "|   143| free|      843|     F|\n",
      "|200015| free|      270|     M|\n",
      "+------+-----+---------+------+\n",
      "only showing top 20 rows\n",
      "\n"
     ]
    }
   ],
   "source": [
    "df.filter(df.page=='Cancel').select(['userId', 'level', 'sessionId', 'gender']).dropDuplicates().show()"
   ]
  },
  {
   "cell_type": "code",
   "execution_count": 16,
   "metadata": {},
   "outputs": [
    {
     "name": "stdout",
     "output_type": "stream",
     "text": [
      "+------+-----+---------+------+\n",
      "|userId|level|sessionId|gender|\n",
      "+------+-----+---------+------+\n",
      "|100025| paid|      123|     F|\n",
      "|200025| paid|      115|     M|\n",
      "|   141| paid|      479|     F|\n",
      "|100015| paid|      121|     F|\n",
      "|    59| paid|      510|     M|\n",
      "|100004| paid|      147|     F|\n",
      "|    81| paid|      725|     M|\n",
      "|     9| paid|     1276|     M|\n",
      "|    20| paid|      378|     F|\n",
      "|    39| paid|     1546|     F|\n",
      "|200020| paid|      222|     M|\n",
      "|    85| paid|      734|     M|\n",
      "|100012| paid|       94|     M|\n",
      "|   109| paid|     1705|     F|\n",
      "|   140| paid|     1918|     F|\n",
      "|100009| paid|      126|     M|\n",
      "|    35| paid|      812|     F|\n",
      "|    35| paid|     1704|     F|\n",
      "|100018| paid|       67|     M|\n",
      "|    77| paid|      688|     F|\n",
      "+------+-----+---------+------+\n",
      "only showing top 20 rows\n",
      "\n"
     ]
    }
   ],
   "source": [
    "df.filter(df.page=='Submit Downgrade').select(['userId', 'level', 'sessionId', 'gender']).dropDuplicates().show()"
   ]
  },
  {
   "cell_type": "code",
   "execution_count": 17,
   "metadata": {},
   "outputs": [
    {
     "name": "stdout",
     "output_type": "stream",
     "text": [
      "+------+-----+---------+------+\n",
      "|userId|level|sessionId|gender|\n",
      "+------+-----+---------+------+\n",
      "|200016| free|      347|     F|\n",
      "|    87| paid|     1092|     M|\n",
      "|   125| free|      174|     M|\n",
      "|   106| paid|     1383|     F|\n",
      "|   122| paid|     1029|     F|\n",
      "|100024| free|       42|     M|\n",
      "|    17| paid|      797|     F|\n",
      "|     3| paid|     1324|     M|\n",
      "|200011| free|      267|     M|\n",
      "|    28| paid|     1519|     F|\n",
      "|100022| free|      191|     F|\n",
      "|200001| free|      136|     M|\n",
      "|   105| paid|      508|     M|\n",
      "|200018| free|      268|     M|\n",
      "|100006| free|        6|     F|\n",
      "|100025| free|      129|     F|\n",
      "|100023| paid|      109|     M|\n",
      "|    18| paid|      514|     M|\n",
      "|   143| free|      843|     F|\n",
      "|200015| free|      270|     M|\n",
      "+------+-----+---------+------+\n",
      "only showing top 20 rows\n",
      "\n"
     ]
    }
   ],
   "source": [
    "df.filter(df.page=='Cancellation Confirmation').select(['userId', 'level', 'sessionId', 'gender']).dropDuplicates().show()"
   ]
  },
  {
   "cell_type": "markdown",
   "metadata": {},
   "source": [
    "### Adding Extra column to show Hour of the day "
   ]
  },
  {
   "cell_type": "code",
   "execution_count": 18,
   "metadata": {},
   "outputs": [],
   "source": [
    "get_hour = udf(lambda x: datetime.datetime.fromtimestamp(x / 1000.0). hour)\n",
    "get_time = udf(lambda x: datetime.datetime.fromtimestamp(x / 1000.0).strftime(\"%Y-%m-%d %H:%M:%S\"))\n",
    "df = df.withColumn(\"hour\", get_hour(df.ts))\n",
    "df = df.withColumn(\"time\", get_time(df.ts))"
   ]
  },
  {
   "cell_type": "code",
   "execution_count": 19,
   "metadata": {},
   "outputs": [
    {
     "name": "stdout",
     "output_type": "stream",
     "text": [
      "+----------------+---------+---------+------+-------------+--------+---------+-----+--------------------+------+--------+-------------+---------+-----------------+------+-------------+--------------------+------+----+-------------------+\n",
      "|          artist|     auth|firstName|gender|itemInSession|lastName|   length|level|            location|method|    page| registration|sessionId|             song|status|           ts|           userAgent|userId|hour|               time|\n",
      "+----------------+---------+---------+------+-------------+--------+---------+-----+--------------------+------+--------+-------------+---------+-----------------+------+-------------+--------------------+------+----+-------------------+\n",
      "|  Martha Tilston|Logged In|    Colin|     M|           50| Freeman|277.89016| paid|     Bakersfield, CA|   PUT|NextSong|1538173362000|       29|        Rockpools|   200|1538352117000|Mozilla/5.0 (Wind...|    30|   0|2018-10-01 00:01:57|\n",
      "|Five Iron Frenzy|Logged In|    Micah|     M|           79|    Long|236.09424| free|Boston-Cambridge-...|   PUT|NextSong|1538331630000|        8|           Canada|   200|1538352180000|\"Mozilla/5.0 (Win...|     9|   0|2018-10-01 00:03:00|\n",
      "|    Adam Lambert|Logged In|    Colin|     M|           51| Freeman| 282.8273| paid|     Bakersfield, CA|   PUT|NextSong|1538173362000|       29|Time For Miracles|   200|1538352394000|Mozilla/5.0 (Wind...|    30|   0|2018-10-01 00:06:34|\n",
      "+----------------+---------+---------+------+-------------+--------+---------+-----+--------------------+------+--------+-------------+---------+-----------------+------+-------------+--------------------+------+----+-------------------+\n",
      "only showing top 3 rows\n",
      "\n"
     ]
    }
   ],
   "source": [
    "df.show(3)"
   ]
  },
  {
   "cell_type": "markdown",
   "metadata": {},
   "source": [
    "**Let's dig into UserID=87 activities.**"
   ]
  },
  {
   "cell_type": "code",
   "execution_count": 20,
   "metadata": {},
   "outputs": [
    {
     "name": "stdout",
     "output_type": "stream",
     "text": [
      "No of events for user 87: 1003\n"
     ]
    }
   ],
   "source": [
    "user87 = df.filter(df.userId==87)\n",
    "print(\"No of events for user 87:\", user87.count())"
   ]
  },
  {
   "cell_type": "code",
   "execution_count": 21,
   "metadata": {},
   "outputs": [
    {
     "name": "stdout",
     "output_type": "stream",
     "text": [
      "+-----+--------------------+----+-------------------+\n",
      "|level|                page|hour|               time|\n",
      "+-----+--------------------+----+-------------------+\n",
      "| free|                Home|   6|2018-10-01 06:47:15|\n",
      "| free|         Roll Advert|   7|2018-10-01 07:18:44|\n",
      "| free|             Upgrade|  15|2018-10-01 15:37:46|\n",
      "| free|            Settings|  15|2018-10-01 15:41:30|\n",
      "| free|           Thumbs Up|  15|2018-10-01 15:55:27|\n",
      "| free|                Home|  16|2018-10-01 16:54:36|\n",
      "| free|         Roll Advert|  16|2018-10-01 16:59:41|\n",
      "| free|         Roll Advert|  17|2018-10-01 17:06:35|\n",
      "| free|         Roll Advert|  17|2018-10-01 17:47:10|\n",
      "| free|                Home|   6|2018-10-02 06:15:54|\n",
      "| free|           Thumbs Up|   6|2018-10-02 06:40:52|\n",
      "| free|     Add to Playlist|   6|2018-10-02 06:41:16|\n",
      "| free|         Roll Advert|   7|2018-10-02 07:00:42|\n",
      "| free|         Roll Advert|   7|2018-10-02 07:05:13|\n",
      "| free|           Thumbs Up|   7|2018-10-02 07:11:23|\n",
      "| free|                Home|   7|2018-10-02 07:17:59|\n",
      "| free|           Thumbs Up|   7|2018-10-02 07:24:15|\n",
      "| free|           Thumbs Up|   7|2018-10-02 07:59:12|\n",
      "| free|         Roll Advert|   8|2018-10-02 08:03:44|\n",
      "| free|              Logout|   8|2018-10-02 08:35:00|\n",
      "| free|                Home|  17|2018-10-03 17:18:47|\n",
      "| free|         Roll Advert|  17|2018-10-03 17:23:42|\n",
      "| free|                Home|  22|2018-10-03 22:36:25|\n",
      "| free|              Logout|  22|2018-10-03 22:48:38|\n",
      "| free|                Home|   2|2018-10-04 02:58:04|\n",
      "| free|                Home|  13|2018-10-05 13:09:45|\n",
      "| free|                Home|  13|2018-10-05 13:11:26|\n",
      "| free|                Home|   3|2018-10-08 03:41:29|\n",
      "| free|            Settings|   4|2018-10-08 04:00:35|\n",
      "| free|           Thumbs Up|   4|2018-10-08 04:05:33|\n",
      "| free|              Logout|   4|2018-10-08 04:14:26|\n",
      "| free|                Home|   4|2018-10-08 04:16:36|\n",
      "| free|                Home|   4|2018-10-08 04:21:24|\n",
      "| free|             Upgrade|   4|2018-10-08 04:35:12|\n",
      "| free|         Roll Advert|  10|2018-10-09 10:22:15|\n",
      "| free|         Roll Advert|  10|2018-10-09 10:33:26|\n",
      "| free|         Roll Advert|  15|2018-10-09 15:38:55|\n",
      "| free|              Logout|  15|2018-10-09 15:52:28|\n",
      "| free|                Home|  15|2018-10-09 15:53:43|\n",
      "| free|         Roll Advert|  16|2018-10-09 16:30:45|\n",
      "| free|           Thumbs Up|  16|2018-10-09 16:50:14|\n",
      "| free|           Thumbs Up|  17|2018-10-09 17:32:16|\n",
      "| free|           Thumbs Up|  17|2018-10-09 17:38:11|\n",
      "| free|          Add Friend|  17|2018-10-09 17:50:47|\n",
      "| free|          Add Friend|  17|2018-10-09 17:50:48|\n",
      "| free|          Add Friend|  17|2018-10-09 17:50:49|\n",
      "| free|          Add Friend|  17|2018-10-09 17:50:50|\n",
      "| free|          Add Friend|  17|2018-10-09 17:50:51|\n",
      "| free|          Add Friend|  17|2018-10-09 17:50:52|\n",
      "| free|          Add Friend|  17|2018-10-09 17:50:53|\n",
      "| free|                Help|  17|2018-10-09 17:51:50|\n",
      "| free|     Add to Playlist|  18|2018-10-09 18:00:36|\n",
      "| free|     Add to Playlist|  18|2018-10-09 18:17:57|\n",
      "| free|         Roll Advert|  18|2018-10-09 18:31:57|\n",
      "| free|         Thumbs Down|  18|2018-10-09 18:41:35|\n",
      "| free|                Home|  18|2018-10-09 18:47:54|\n",
      "| free|                Home|  14|2018-10-10 14:51:26|\n",
      "| free|          Add Friend|  15|2018-10-10 15:18:14|\n",
      "| free|         Roll Advert|  16|2018-10-10 16:24:24|\n",
      "| free|             Upgrade|  16|2018-10-10 16:55:02|\n",
      "| free|                Home|  16|2018-10-10 16:55:29|\n",
      "| free|         Roll Advert|  17|2018-10-10 17:07:31|\n",
      "| free|          Add Friend|  17|2018-10-10 17:14:46|\n",
      "| free|           Thumbs Up|  17|2018-10-10 17:46:13|\n",
      "| free|              Logout|  17|2018-10-10 17:53:32|\n",
      "| free|                Home|  18|2018-10-10 18:13:39|\n",
      "| free|     Add to Playlist|  18|2018-10-10 18:21:17|\n",
      "| free|         Roll Advert|  18|2018-10-10 18:31:16|\n",
      "| free|     Add to Playlist|  18|2018-10-10 18:42:55|\n",
      "| free|           Thumbs Up|  18|2018-10-10 18:57:55|\n",
      "| free|           Thumbs Up|  19|2018-10-10 19:30:26|\n",
      "| free|         Roll Advert|  19|2018-10-10 19:45:15|\n",
      "| free|           Thumbs Up|  20|2018-10-10 20:00:02|\n",
      "| free|           Thumbs Up|  20|2018-10-10 20:03:32|\n",
      "| free|         Roll Advert|  20|2018-10-10 20:24:50|\n",
      "| free|              Logout|  20|2018-10-10 20:55:06|\n",
      "| free|                Home|  15|2018-10-11 15:46:26|\n",
      "| free|                Home|  15|2018-10-11 15:47:28|\n",
      "| free|           Thumbs Up|  20|2018-10-11 20:43:47|\n",
      "| free|         Roll Advert|  20|2018-10-11 20:54:16|\n",
      "| free|     Add to Playlist|  21|2018-10-11 21:15:16|\n",
      "| free|         Roll Advert|  21|2018-10-11 21:38:33|\n",
      "| free|     Add to Playlist|  22|2018-10-11 22:22:42|\n",
      "| free|                Help|  23|2018-10-11 23:01:55|\n",
      "| free|                Help|  23|2018-10-11 23:03:06|\n",
      "| free|                Home|  23|2018-10-11 23:07:36|\n",
      "| free|           Thumbs Up|  23|2018-10-11 23:10:04|\n",
      "| free|         Roll Advert|  23|2018-10-11 23:21:22|\n",
      "| free|           Thumbs Up|   0|2018-10-12 00:02:51|\n",
      "| free|         Roll Advert|   0|2018-10-12 00:09:47|\n",
      "| free|                Home|   0|2018-10-12 00:17:25|\n",
      "| free|         Roll Advert|   0|2018-10-12 00:44:45|\n",
      "| free|                Home|   1|2018-10-12 01:14:08|\n",
      "| free|         Roll Advert|   1|2018-10-12 01:24:39|\n",
      "| free|                Home|   2|2018-10-12 02:47:33|\n",
      "| free|     Add to Playlist|   3|2018-10-12 03:40:11|\n",
      "| free|              Logout|   4|2018-10-12 04:00:04|\n",
      "| free|                Home|   4|2018-10-12 04:02:37|\n",
      "| free|         Roll Advert|  17|2018-10-12 17:30:27|\n",
      "| free|             Upgrade|  17|2018-10-12 17:39:25|\n",
      "| free|     Add to Playlist|  17|2018-10-12 17:50:41|\n",
      "| free|           Thumbs Up|  18|2018-10-12 18:23:16|\n",
      "| free|         Roll Advert|  18|2018-10-12 18:37:13|\n",
      "| free|          Add Friend|  18|2018-10-12 18:39:19|\n",
      "| free|          Add Friend|  18|2018-10-12 18:39:20|\n",
      "| free|          Add Friend|  18|2018-10-12 18:39:21|\n",
      "| free|                Home|  18|2018-10-12 18:39:41|\n",
      "| free|           Thumbs Up|  18|2018-10-12 18:56:51|\n",
      "| free|           Thumbs Up|  18|2018-10-12 18:58:57|\n",
      "| free|         Roll Advert|  19|2018-10-12 19:03:23|\n",
      "| free|     Add to Playlist|  19|2018-10-12 19:13:47|\n",
      "| free|             Upgrade|  19|2018-10-12 19:26:42|\n",
      "| free|          Add Friend|  19|2018-10-12 19:26:43|\n",
      "| free|         Roll Advert|  19|2018-10-12 19:35:20|\n",
      "| free|           Thumbs Up|  19|2018-10-12 19:36:32|\n",
      "| free|             Upgrade|   3|2018-10-14 03:14:46|\n",
      "| free|          Add Friend|   3|2018-10-14 03:14:47|\n",
      "| free|              Logout|   3|2018-10-14 03:18:32|\n",
      "| free|                Home|   3|2018-10-14 03:20:29|\n",
      "| free|     Add to Playlist|   3|2018-10-14 03:23:18|\n",
      "| free|          Add Friend|   3|2018-10-14 03:32:20|\n",
      "| free|          Add Friend|   3|2018-10-14 03:32:21|\n",
      "| free|     Add to Playlist|   3|2018-10-14 03:40:06|\n",
      "| free|           Thumbs Up|   3|2018-10-14 03:44:52|\n",
      "| free|          Add Friend|   3|2018-10-14 03:48:22|\n",
      "| free|          Add Friend|   3|2018-10-14 03:48:23|\n",
      "| free|          Add Friend|   3|2018-10-14 03:48:24|\n",
      "| free|            Settings|   3|2018-10-14 03:53:35|\n",
      "| free|                Home|   4|2018-10-14 04:17:35|\n",
      "| free|         Roll Advert|   4|2018-10-14 04:22:41|\n",
      "| free|         Roll Advert|   4|2018-10-14 04:31:02|\n",
      "| free|              Logout|   4|2018-10-14 04:31:03|\n",
      "| free|                Home|   4|2018-10-14 04:31:47|\n",
      "| free|         Roll Advert|   4|2018-10-14 04:39:37|\n",
      "| free|         Roll Advert|   4|2018-10-14 04:57:24|\n",
      "| free|     Add to Playlist|   4|2018-10-14 04:59:01|\n",
      "| free|         Roll Advert|   5|2018-10-14 05:03:06|\n",
      "| free|         Roll Advert|   5|2018-10-14 05:09:18|\n",
      "| free|                Home|   5|2018-10-14 05:16:46|\n",
      "| free|         Roll Advert|   5|2018-10-14 05:31:38|\n",
      "| free|         Roll Advert|   5|2018-10-14 05:49:58|\n",
      "| free|           Thumbs Up|   5|2018-10-14 05:53:04|\n",
      "| free|            Settings|   6|2018-10-14 06:07:32|\n",
      "| free|              Logout|   6|2018-10-14 06:31:29|\n",
      "| free|                Home|   0|2018-10-15 00:26:40|\n",
      "| free|         Roll Advert|   0|2018-10-15 00:27:27|\n",
      "| free|           Thumbs Up|   0|2018-10-15 00:33:07|\n",
      "| free|                Help|   0|2018-10-15 00:42:28|\n",
      "| free|          Add Friend|   0|2018-10-15 00:54:19|\n",
      "| free|         Thumbs Down|   1|2018-10-15 01:08:26|\n",
      "| free|          Add Friend|   1|2018-10-15 01:11:28|\n",
      "| free|                Home|   1|2018-10-15 01:11:45|\n",
      "| free|         Roll Advert|   1|2018-10-15 01:22:27|\n",
      "| free|         Roll Advert|   2|2018-10-15 02:09:17|\n",
      "| free|                Home|   0|2018-10-16 00:03:55|\n",
      "| free|              Logout|   0|2018-10-16 00:31:11|\n",
      "| free|                Home|   0|2018-10-16 00:31:42|\n",
      "| free|                Help|   0|2018-10-16 00:39:53|\n",
      "| free|                Home|   0|2018-10-16 00:40:22|\n",
      "| free|         Roll Advert|   1|2018-10-16 01:07:29|\n",
      "| free|     Add to Playlist|   1|2018-10-16 01:20:20|\n",
      "| free|           Thumbs Up|   1|2018-10-16 01:33:20|\n",
      "| free|                Home|   1|2018-10-16 01:50:12|\n",
      "| free|              Logout|   1|2018-10-16 01:57:30|\n",
      "| free|                Home|   1|2018-10-16 01:58:42|\n",
      "| free|                Home|   2|2018-10-16 02:26:31|\n",
      "| free|         Roll Advert|   2|2018-10-16 02:44:40|\n",
      "| free|              Logout|   2|2018-10-16 02:44:41|\n",
      "| free|                Home|   2|2018-10-16 02:49:20|\n",
      "| free|         Roll Advert|   2|2018-10-16 02:50:23|\n",
      "| free|           Thumbs Up|   3|2018-10-16 03:02:18|\n",
      "| free|                Home|   3|2018-10-16 03:08:39|\n",
      "| free|                Home|   9|2018-10-16 09:14:13|\n",
      "| free|            Settings|   9|2018-10-16 09:20:30|\n",
      "| free|          Add Friend|   9|2018-10-16 09:22:34|\n",
      "| free|                Home|   9|2018-10-16 09:24:25|\n",
      "| free|                Home|   9|2018-10-16 09:27:03|\n",
      "| free|         Roll Advert|   9|2018-10-16 09:31:37|\n",
      "| free|           Thumbs Up|   9|2018-10-16 09:37:39|\n",
      "| free|           Thumbs Up|   9|2018-10-16 09:41:10|\n",
      "| free|           Thumbs Up|  10|2018-10-16 10:12:54|\n",
      "| free|     Add to Playlist|  10|2018-10-16 10:42:30|\n",
      "| free|     Add to Playlist|  10|2018-10-16 10:44:21|\n",
      "| free|         Thumbs Down|  17|2018-10-16 17:45:41|\n",
      "| free|            Settings|  18|2018-10-16 18:33:39|\n",
      "| free|                Home|  18|2018-10-16 18:33:42|\n",
      "| free|                Help|  18|2018-10-16 18:43:08|\n",
      "| free|                Help|  18|2018-10-16 18:43:32|\n",
      "| free|                Home|  18|2018-10-16 18:46:39|\n",
      "| free|              Logout|  18|2018-10-16 18:46:40|\n",
      "| free|                Home|  18|2018-10-16 18:48:47|\n",
      "| free|            Settings|  18|2018-10-16 18:52:32|\n",
      "| free|          Add Friend|  18|2018-10-16 18:55:58|\n",
      "| free|          Add Friend|  18|2018-10-16 18:55:59|\n",
      "| free|         Roll Advert|  19|2018-10-16 19:00:30|\n",
      "| free|              Logout|  17|2018-10-18 17:11:40|\n",
      "| free|                Home|  17|2018-10-18 17:12:56|\n",
      "| free|         Roll Advert|  17|2018-10-18 17:36:04|\n",
      "| free|                Home|  20|2018-10-18 20:56:50|\n",
      "| free|         Thumbs Down|  21|2018-10-18 21:05:23|\n",
      "| free|          Add Friend|  21|2018-10-18 21:23:12|\n",
      "| free|          Add Friend|  21|2018-10-18 21:23:13|\n",
      "| free|                Home|  21|2018-10-19 21:42:53|\n",
      "| free|         Roll Advert|  21|2018-10-19 21:45:01|\n",
      "| free|         Roll Advert|  21|2018-10-19 21:48:05|\n",
      "| free|         Roll Advert|  22|2018-10-19 22:10:04|\n",
      "| free|         Roll Advert|  22|2018-10-19 22:53:09|\n",
      "| free|                Help|  22|2018-10-19 22:56:23|\n",
      "| free|                Home|  23|2018-10-19 23:22:58|\n",
      "| free|              Logout|  23|2018-10-19 23:25:58|\n",
      "| free|                Home|  23|2018-10-19 23:27:36|\n",
      "| free|          Add Friend|  23|2018-10-19 23:27:37|\n",
      "| free|         Roll Advert|  23|2018-10-19 23:46:39|\n",
      "| free|     Add to Playlist|  23|2018-10-19 23:48:44|\n",
      "| free|                Home|   0|2018-10-20 00:10:07|\n",
      "| free|           Thumbs Up|   0|2018-10-20 00:14:07|\n",
      "| free|     Add to Playlist|   0|2018-10-20 00:24:23|\n",
      "| free|           Thumbs Up|   0|2018-10-20 00:34:55|\n",
      "| free|             Upgrade|   0|2018-10-20 00:46:25|\n",
      "| free|      Submit Upgrade|   0|2018-10-20 00:46:26|\n",
      "| paid|                Home|   0|2018-10-20 00:47:49|\n",
      "| paid|            Settings|   0|2018-10-20 00:49:36|\n",
      "| paid|     Add to Playlist|   0|2018-10-20 00:53:33|\n",
      "| paid|               About|   2|2018-10-20 02:28:54|\n",
      "| paid|              Logout|   4|2018-10-20 04:31:57|\n",
      "| paid|                Home|   4|2018-10-20 04:33:07|\n",
      "| paid|                Home|  10|2018-10-20 10:54:44|\n",
      "| paid|              Logout|  11|2018-10-20 11:44:44|\n",
      "| paid|                Home|  11|2018-10-20 11:45:37|\n",
      "| paid|              Logout|  14|2018-10-20 14:15:35|\n",
      "| paid|                Home|  14|2018-10-20 14:17:13|\n",
      "| paid|           Thumbs Up|  14|2018-10-20 14:49:45|\n",
      "| paid|         Thumbs Down|  15|2018-10-20 15:37:26|\n",
      "| paid|           Downgrade|  15|2018-10-20 15:48:57|\n",
      "| paid|              Cancel|  15|2018-10-20 15:48:58|\n",
      "| paid|Cancellation Conf...|  15|2018-10-20 15:49:16|\n",
      "+-----+--------------------+----+-------------------+\n",
      "\n"
     ]
    }
   ],
   "source": [
    "user87.filter(user87.page!='NextSong').select(['level','page', 'hour', 'time']).orderBy('ts', ascending=True).show(236)"
   ]
  },
  {
   "cell_type": "markdown",
   "metadata": {},
   "source": [
    "**Based on above user activity we can see that he upgraded the service from Free Tier to Paid, but cancelled the paid service with-in 24 hour window. Before leaving the Sparkify platform, user has visited Downgrade page, but eventually cancelled his account.**"
   ]
  },
  {
   "cell_type": "code",
   "execution_count": 22,
   "metadata": {},
   "outputs": [
    {
     "data": {
      "text/plain": [
       "['125',\n",
       " '51',\n",
       " '54',\n",
       " '100014',\n",
       " '101',\n",
       " '29',\n",
       " '100021',\n",
       " '87',\n",
       " '73',\n",
       " '3',\n",
       " '28',\n",
       " '100022',\n",
       " '100025',\n",
       " '300007',\n",
       " '100006',\n",
       " '18',\n",
       " '70',\n",
       " '100005',\n",
       " '17',\n",
       " '100007',\n",
       " '300001',\n",
       " '100009',\n",
       " '100015',\n",
       " '200024',\n",
       " '100003',\n",
       " '103',\n",
       " '100024',\n",
       " '53',\n",
       " '122',\n",
       " '200017',\n",
       " '58',\n",
       " '100011',\n",
       " '100019',\n",
       " '100012',\n",
       " '200018',\n",
       " '200016',\n",
       " '200020',\n",
       " '106',\n",
       " '143',\n",
       " '32',\n",
       " '200001',\n",
       " '105',\n",
       " '200011',\n",
       " '100023',\n",
       " '100013',\n",
       " '100017',\n",
       " '121',\n",
       " '12',\n",
       " '200015',\n",
       " '129',\n",
       " '200021',\n",
       " '100001']"
      ]
     },
     "execution_count": 22,
     "metadata": {},
     "output_type": "execute_result"
    }
   ],
   "source": [
    "ChurnUser_list = [(row['userId']) for row in df.filter(df.page==\"Cancellation Confirmation\").select('userId').dropDuplicates().collect()]\n",
    "ChurnUser_list\n",
    "ChurnUser_list = [(row['userId']) for row in df.filter(df.page==\"Cancellation Confirmation\").select('userId').dropDuplicates().collect()]\n",
    "ChurnUser_list\n"
   ]
  },
  {
   "cell_type": "code",
   "execution_count": 23,
   "metadata": {},
   "outputs": [],
   "source": [
    "df = df.withColumn(\"Churn\", df.userId.isin(ChurnUser_list))"
   ]
  },
  {
   "cell_type": "code",
   "execution_count": 24,
   "metadata": {},
   "outputs": [
    {
     "name": "stdout",
     "output_type": "stream",
     "text": [
      "+-----+--------------------+----+-------------------+-----+\n",
      "|level|                page|hour|               time|Churn|\n",
      "+-----+--------------------+----+-------------------+-----+\n",
      "| paid|Cancellation Conf...|  20|2018-10-07 20:26:30| true|\n",
      "| paid|Cancellation Conf...|  21|2018-10-08 21:10:46| true|\n",
      "| free|Cancellation Conf...|   4|2018-10-12 04:35:18| true|\n",
      "| paid|Cancellation Conf...|  20|2018-10-12 20:17:21| true|\n",
      "| paid|Cancellation Conf...|  21|2018-10-13 21:19:44| true|\n",
      "| free|Cancellation Conf...|   7|2018-10-15 07:34:14| true|\n",
      "| paid|Cancellation Conf...|  22|2018-10-16 22:30:37| true|\n",
      "| paid|Cancellation Conf...|   0|2018-10-17 00:29:21| true|\n",
      "| paid|Cancellation Conf...|   7|2018-10-17 07:02:29| true|\n",
      "| paid|Cancellation Conf...|   7|2018-10-17 07:39:32| true|\n",
      "| paid|Cancellation Conf...|  15|2018-10-20 15:49:16| true|\n",
      "| paid|Cancellation Conf...|  19|2018-10-20 19:01:08| true|\n",
      "| paid|Cancellation Conf...|   7|2018-10-22 07:29:34| true|\n",
      "| paid|Cancellation Conf...|  15|2018-10-22 15:43:26| true|\n",
      "| paid|Cancellation Conf...|  17|2018-10-24 17:33:07| true|\n",
      "| paid|Cancellation Conf...|   4|2018-10-30 04:59:03| true|\n",
      "| paid|Cancellation Conf...|  13|2018-11-02 13:47:04| true|\n",
      "| paid|Cancellation Conf...|  14|2018-11-04 14:01:31| true|\n",
      "| paid|Cancellation Conf...|   0|2018-11-06 00:20:32| true|\n",
      "| paid|Cancellation Conf...|  19|2018-11-12 19:40:08| true|\n",
      "| paid|Cancellation Conf...|   7|2018-11-14 07:37:11| true|\n",
      "| paid|Cancellation Conf...|  22|2018-11-14 22:34:27| true|\n",
      "| paid|Cancellation Conf...|  12|2018-11-19 12:34:56| true|\n",
      "| free|Cancellation Conf...|  18|2018-10-01 18:04:45| true|\n",
      "| free|Cancellation Conf...|  16|2018-10-02 16:36:45| true|\n",
      "| free|Cancellation Conf...|  23|2018-10-04 23:17:18| true|\n",
      "| free|Cancellation Conf...|  15|2018-10-05 15:24:30| true|\n",
      "| free|Cancellation Conf...|  22|2018-10-07 22:57:51| true|\n",
      "| free|Cancellation Conf...|  16|2018-10-11 16:19:41| true|\n",
      "| paid|Cancellation Conf...|   0|2018-10-14 00:00:37| true|\n",
      "| free|Cancellation Conf...|  17|2018-10-19 17:57:05| true|\n",
      "| free|Cancellation Conf...|  19|2018-10-20 19:14:07| true|\n",
      "| free|Cancellation Conf...|  12|2018-10-23 12:52:32| true|\n",
      "| free|Cancellation Conf...|   3|2018-10-27 03:31:44| true|\n",
      "| free|Cancellation Conf...|  19|2018-11-01 19:35:00| true|\n",
      "| paid|Cancellation Conf...|  18|2018-11-02 18:53:36| true|\n",
      "| free|Cancellation Conf...|  16|2018-11-12 16:04:05| true|\n",
      "| paid|Cancellation Conf...|  19|2018-11-20 19:04:09| true|\n",
      "| paid|Cancellation Conf...|  15|2018-11-24 15:35:53| true|\n",
      "| free|Cancellation Conf...|  11|2018-11-25 11:03:02| true|\n",
      "| paid|Cancellation Conf...|  11|2018-11-29 11:45:09| true|\n",
      "| free|Cancellation Conf...|  18|2018-10-15 18:55:20| true|\n",
      "| paid|Cancellation Conf...|   3|2018-10-24 03:59:37| true|\n",
      "| free|Cancellation Conf...|   1|2018-11-02 01:09:24| true|\n",
      "| paid|Cancellation Conf...|   5|2018-11-02 05:58:53| true|\n",
      "| free|Cancellation Conf...|  10|2018-11-02 10:07:54| true|\n",
      "| free|Cancellation Conf...|   7|2018-11-09 07:01:03| true|\n",
      "| paid|Cancellation Conf...|  20|2018-11-15 20:16:43| true|\n",
      "| free|Cancellation Conf...|   8|2018-11-16 08:17:58| true|\n",
      "| free|Cancellation Conf...|  16|2018-11-17 16:40:42| true|\n",
      "+-----+--------------------+----+-------------------+-----+\n",
      "only showing top 50 rows\n",
      "\n"
     ]
    }
   ],
   "source": [
    "df.filter(df.page=='Cancellation Confirmation').select(['level','page', 'hour', 'time', 'Churn']).show(50)\n"
   ]
  },
  {
   "cell_type": "code",
   "execution_count": 25,
   "metadata": {},
   "outputs": [
    {
     "data": {
      "text/plain": [
       "['artist',\n",
       " 'auth',\n",
       " 'firstName',\n",
       " 'gender',\n",
       " 'itemInSession',\n",
       " 'lastName',\n",
       " 'length',\n",
       " 'level',\n",
       " 'location',\n",
       " 'method',\n",
       " 'page',\n",
       " 'registration',\n",
       " 'sessionId',\n",
       " 'song',\n",
       " 'status',\n",
       " 'ts',\n",
       " 'userAgent',\n",
       " 'userId',\n",
       " 'hour',\n",
       " 'time',\n",
       " 'Churn']"
      ]
     },
     "execution_count": 25,
     "metadata": {},
     "output_type": "execute_result"
    }
   ],
   "source": [
    "df.columns"
   ]
  },
  {
   "cell_type": "code",
   "execution_count": 26,
   "metadata": {},
   "outputs": [
    {
     "name": "stdout",
     "output_type": "stream",
     "text": [
      "+------+----+-----+----+-----+\n",
      "|userId|hour|Churn|song|level|\n",
      "+------+----+-----+----+-----+\n",
      "|   131|  11|false|null| paid|\n",
      "|    38|  21|false|null| paid|\n",
      "|   141|  14|false|null| paid|\n",
      "|    30|  10|false|null| paid|\n",
      "|    20|  11|false|null| paid|\n",
      "|    12|   4| true|null| paid|\n",
      "|    11|   6|false|null| paid|\n",
      "|    61|   7|false|null| paid|\n",
      "|    81|  13|false|null| paid|\n",
      "|    85|   9|false|null| paid|\n",
      "|   140|   9|false|null| paid|\n",
      "|    35|  21|false|null| paid|\n",
      "|    54|  12| true|null| paid|\n",
      "|    77|  12|false|null| paid|\n",
      "|    59|  19|false|null| paid|\n",
      "|   103|  23| true|null| paid|\n",
      "|    95|   7|false|null| paid|\n",
      "|    74|  19|false|null| paid|\n",
      "|    85|  12|false|null| paid|\n",
      "|     9|   5|false|null| paid|\n",
      "+------+----+-----+----+-----+\n",
      "only showing top 20 rows\n",
      "\n"
     ]
    }
   ],
   "source": [
    "df.filter(df.page==\"Submit Downgrade\").select(['userId', 'hour', 'Churn', 'song', 'level']).show()"
   ]
  },
  {
   "cell_type": "code",
   "execution_count": 27,
   "metadata": {},
   "outputs": [
    {
     "data": {
      "text/plain": [
       "1091"
      ]
     },
     "execution_count": 27,
     "metadata": {},
     "output_type": "execute_result"
    }
   ],
   "source": [
    "user_49 = df.filter(df.userId=='49')\n",
    "user_49.count()"
   ]
  },
  {
   "cell_type": "code",
   "execution_count": 28,
   "metadata": {},
   "outputs": [
    {
     "name": "stdout",
     "output_type": "stream",
     "text": [
      "+----------------+-----+-----+----+-------------------+------+\n",
      "|            page|level|Churn|hour|               time|length|\n",
      "+----------------+-----+-----+----+-------------------+------+\n",
      "|       Thumbs Up| paid|false|   2|2018-10-04 02:47:46|  null|\n",
      "| Add to Playlist| paid|false|   2|2018-10-04 02:47:46|  null|\n",
      "|     Thumbs Down| paid|false|   2|2018-10-04 02:51:20|  null|\n",
      "|            Help| paid|false|   3|2018-10-04 03:31:26|  null|\n",
      "|            Home| paid|false|   3|2018-10-04 03:31:33|  null|\n",
      "|            Home| paid|false|   3|2018-10-04 03:54:06|  null|\n",
      "|            Home| paid|false|   4|2018-10-04 04:27:31|  null|\n",
      "|      Add Friend| paid|false|   4|2018-10-04 04:32:01|  null|\n",
      "|      Add Friend| paid|false|   5|2018-10-04 05:08:10|  null|\n",
      "| Add to Playlist| paid|false|   6|2018-10-04 06:15:48|  null|\n",
      "| Add to Playlist| paid|false|   6|2018-10-04 06:36:21|  null|\n",
      "|       Thumbs Up| paid|false|   6|2018-10-04 06:52:33|  null|\n",
      "|       Thumbs Up| paid|false|   7|2018-10-04 07:34:44|  null|\n",
      "|      Add Friend| paid|false|   7|2018-10-04 07:52:01|  null|\n",
      "|       Thumbs Up| paid|false|   8|2018-10-04 08:02:27|  null|\n",
      "|       Thumbs Up| paid|false|   8|2018-10-04 08:08:58|  null|\n",
      "| Add to Playlist| paid|false|   8|2018-10-04 08:24:17|  null|\n",
      "|          Logout| paid|false|   8|2018-10-04 08:26:39|  null|\n",
      "|            Home| paid|false|   8|2018-10-04 08:28:46|  null|\n",
      "|            Home| paid|false|   8|2018-10-04 08:37:39|  null|\n",
      "|     Thumbs Down| paid|false|   8|2018-10-04 08:44:23|  null|\n",
      "|       Thumbs Up| paid|false|   8|2018-10-04 08:54:11|  null|\n",
      "| Add to Playlist| paid|false|   8|2018-10-04 08:54:37|  null|\n",
      "|          Logout| paid|false|  10|2018-10-04 10:36:22|  null|\n",
      "|            Home| paid|false|  10|2018-10-04 10:38:04|  null|\n",
      "|       Thumbs Up| paid|false|  11|2018-10-04 11:22:32|  null|\n",
      "|       Thumbs Up| paid|false|  11|2018-10-04 11:47:38|  null|\n",
      "|       Thumbs Up| paid|false|  12|2018-10-04 12:55:00|  null|\n",
      "|            Help| paid|false|  12|2018-10-04 12:59:59|  null|\n",
      "|       Thumbs Up| paid|false|  13|2018-10-04 13:16:45|  null|\n",
      "|       Thumbs Up| paid|false|  13|2018-10-04 13:45:57|  null|\n",
      "| Add to Playlist| paid|false|  13|2018-10-04 13:46:27|  null|\n",
      "|            Home| paid|false|  14|2018-10-04 14:26:44|  null|\n",
      "|          Logout| paid|false|  15|2018-10-04 15:00:40|  null|\n",
      "|            Home| paid|false|  15|2018-10-04 15:02:05|  null|\n",
      "| Add to Playlist| paid|false|  15|2018-10-04 15:41:10|  null|\n",
      "|            Home| paid|false|  15|2018-10-04 15:54:37|  null|\n",
      "|       Thumbs Up| paid|false|  16|2018-10-04 16:05:10|  null|\n",
      "|       Thumbs Up| paid|false|  16|2018-10-04 16:09:23|  null|\n",
      "| Add to Playlist| paid|false|  16|2018-10-04 16:22:07|  null|\n",
      "|            Home| paid|false|  16|2018-10-04 16:40:05|  null|\n",
      "| Add to Playlist| paid|false|  17|2018-10-04 17:15:46|  null|\n",
      "|            Home| paid|false|  17|2018-10-04 17:49:08|  null|\n",
      "|            Home| paid|false|  18|2018-10-04 18:05:37|  null|\n",
      "| Add to Playlist| paid|false|  18|2018-10-04 18:53:24|  null|\n",
      "|          Logout| paid|false|  18|2018-10-04 18:57:34|  null|\n",
      "|            Home| paid|false|  18|2018-10-04 18:58:05|  null|\n",
      "|      Add Friend| paid|false|  18|2018-10-04 18:58:06|  null|\n",
      "|      Add Friend| paid|false|  19|2018-10-04 19:14:51|  null|\n",
      "|       Thumbs Up| paid|false|  19|2018-10-04 19:20:42|  null|\n",
      "|            Home| paid|false|  19|2018-10-04 19:29:50|  null|\n",
      "|       Thumbs Up| paid|false|  19|2018-10-04 19:31:48|  null|\n",
      "|       Downgrade| paid|false|  19|2018-10-04 19:44:45|  null|\n",
      "|            Home| paid|false|  21|2018-10-04 21:09:28|  null|\n",
      "|       Thumbs Up| paid|false|  16|2018-10-15 16:28:30|  null|\n",
      "|            Home| paid|false|  16|2018-10-15 16:33:04|  null|\n",
      "|      Add Friend| paid|false|  16|2018-10-15 16:44:53|  null|\n",
      "|      Add Friend| paid|false|  16|2018-10-15 16:44:54|  null|\n",
      "| Add to Playlist| paid|false|  16|2018-10-15 16:50:35|  null|\n",
      "| Add to Playlist| paid|false|  17|2018-10-15 17:02:07|  null|\n",
      "|       Thumbs Up| paid|false|  17|2018-10-15 17:36:59|  null|\n",
      "|       Thumbs Up| paid|false|  18|2018-10-15 18:19:00|  null|\n",
      "| Add to Playlist| paid|false|  19|2018-10-15 19:17:57|  null|\n",
      "| Add to Playlist| paid|false|  19|2018-10-15 19:54:56|  null|\n",
      "|       Thumbs Up| paid|false|  20|2018-10-15 20:06:23|  null|\n",
      "|            Home| paid|false|  20|2018-10-15 20:25:48|  null|\n",
      "|            Home| paid|false|  20|2018-10-15 20:43:39|  null|\n",
      "|          Logout| paid|false|  20|2018-10-15 20:50:52|  null|\n",
      "|            Home| paid|false|  20|2018-10-15 20:52:52|  null|\n",
      "|       Thumbs Up| paid|false|  20|2018-10-15 20:55:59|  null|\n",
      "|            Help| paid|false|  21|2018-10-15 21:09:58|  null|\n",
      "| Add to Playlist| paid|false|  21|2018-10-15 21:18:46|  null|\n",
      "| Add to Playlist| paid|false|  21|2018-10-15 21:38:26|  null|\n",
      "|       Thumbs Up| paid|false|  21|2018-10-15 21:51:09|  null|\n",
      "|       Downgrade| paid|false|  23|2018-10-15 23:21:18|  null|\n",
      "|          Logout| paid|false|  23|2018-10-15 23:21:19|  null|\n",
      "|            Home| paid|false|  23|2018-10-15 23:21:56|  null|\n",
      "| Add to Playlist| paid|false|  23|2018-10-15 23:34:23|  null|\n",
      "|     Thumbs Down| paid|false|  23|2018-10-15 23:45:41|  null|\n",
      "|       Thumbs Up| paid|false|   0|2018-10-16 00:09:08|  null|\n",
      "|      Add Friend| paid|false|   0|2018-10-16 00:12:22|  null|\n",
      "|     Thumbs Down| paid|false|   0|2018-10-16 00:23:31|  null|\n",
      "|            Help| paid|false|   0|2018-10-16 00:23:45|  null|\n",
      "|       Thumbs Up| paid|false|   0|2018-10-16 00:39:40|  null|\n",
      "|            Home| paid|false|   0|2018-10-16 00:44:45|  null|\n",
      "| Add to Playlist| paid|false|   1|2018-10-16 01:12:40|  null|\n",
      "|            Home| paid|false|   1|2018-10-16 01:32:37|  null|\n",
      "|          Logout| paid|false|   7|2018-10-17 07:09:34|  null|\n",
      "|            Home| paid|false|   7|2018-10-17 07:13:51|  null|\n",
      "|            Home| paid|false|   7|2018-10-17 07:19:42|  null|\n",
      "|      Add Friend| paid|false|   7|2018-10-17 07:19:43|  null|\n",
      "|       Downgrade| paid|false|   7|2018-10-17 07:25:31|  null|\n",
      "|       Downgrade| paid|false|   7|2018-10-17 07:25:36|  null|\n",
      "|     Thumbs Down| paid|false|   7|2018-10-17 07:45:44|  null|\n",
      "|           Error| paid|false|   8|2018-10-17 08:46:27|  null|\n",
      "| Add to Playlist| paid|false|   8|2018-10-17 08:50:24|  null|\n",
      "|       Thumbs Up| paid|false|   8|2018-10-17 08:52:56|  null|\n",
      "|           Error| paid|false|   8|2018-10-17 08:56:35|  null|\n",
      "|       Thumbs Up| paid|false|   9|2018-10-17 09:12:32|  null|\n",
      "|       Thumbs Up| paid|false|  10|2018-10-17 10:12:44|  null|\n",
      "|        Settings| paid|false|  10|2018-10-17 10:47:35|  null|\n",
      "|   Save Settings| paid|false|  10|2018-10-17 10:47:36|  null|\n",
      "|            Home| paid|false|  10|2018-10-17 10:48:20|  null|\n",
      "|     Thumbs Down| paid|false|  11|2018-10-17 11:32:55|  null|\n",
      "|        Settings| paid|false|  11|2018-10-17 11:44:54|  null|\n",
      "|   Save Settings| paid|false|  11|2018-10-17 11:44:55|  null|\n",
      "|            Home| paid|false|  11|2018-10-17 11:45:15|  null|\n",
      "|       Thumbs Up| paid|false|  12|2018-10-17 12:11:06|  null|\n",
      "|            Home| paid|false|  12|2018-10-17 12:35:46|  null|\n",
      "|      Add Friend| paid|false|  13|2018-10-17 13:12:14|  null|\n",
      "|       Thumbs Up| paid|false|  13|2018-10-17 13:22:51|  null|\n",
      "|            Help| paid|false|  14|2018-10-17 14:36:58|  null|\n",
      "|       Thumbs Up| paid|false|  14|2018-10-17 14:39:24|  null|\n",
      "|       Downgrade| paid|false|  14|2018-10-17 14:48:49|  null|\n",
      "|       Downgrade| paid|false|  14|2018-10-17 14:50:15|  null|\n",
      "|       Thumbs Up| paid|false|  14|2018-10-17 14:58:52|  null|\n",
      "| Add to Playlist| paid|false|  15|2018-10-17 15:06:14|  null|\n",
      "|       Downgrade| paid|false|  15|2018-10-17 15:24:43|  null|\n",
      "|       Thumbs Up| paid|false|  15|2018-10-17 15:54:56|  null|\n",
      "|      Add Friend| paid|false|  16|2018-10-17 16:24:42|  null|\n",
      "|           Error| paid|false|  16|2018-10-17 16:25:36|  null|\n",
      "| Add to Playlist| paid|false|  17|2018-10-17 17:11:04|  null|\n",
      "|       Thumbs Up| paid|false|  17|2018-10-17 17:15:17|  null|\n",
      "|            Home| paid|false|  17|2018-10-17 17:29:31|  null|\n",
      "|            Home| paid|false|   3|2018-10-30 03:17:03|  null|\n",
      "|       Downgrade| paid|false|   3|2018-10-30 03:25:47|  null|\n",
      "|       Downgrade| paid|false|   3|2018-10-30 03:49:39|  null|\n",
      "| Add to Playlist| paid|false|   3|2018-10-30 03:59:01|  null|\n",
      "| Add to Playlist| paid|false|   4|2018-10-30 04:30:04|  null|\n",
      "|       Downgrade| paid|false|   4|2018-10-30 04:37:50|  null|\n",
      "|       Thumbs Up| paid|false|   4|2018-10-30 04:40:21|  null|\n",
      "|     Thumbs Down| paid|false|   5|2018-10-30 05:04:23|  null|\n",
      "|       Thumbs Up| paid|false|   5|2018-10-30 05:08:05|  null|\n",
      "|       Thumbs Up| paid|false|   5|2018-10-30 05:14:50|  null|\n",
      "|      Add Friend| paid|false|   5|2018-10-30 05:18:46|  null|\n",
      "|      Add Friend| paid|false|   5|2018-10-30 05:18:47|  null|\n",
      "|            Help| paid|false|  21|2018-11-05 21:34:36|  null|\n",
      "|            Home| paid|false|  19|2018-11-08 19:32:30|  null|\n",
      "|       Thumbs Up| paid|false|  20|2018-11-08 20:10:24|  null|\n",
      "|            Home| paid|false|  20|2018-11-08 20:57:51|  null|\n",
      "|       Downgrade| paid|false|  21|2018-11-08 21:16:14|  null|\n",
      "|            Home| paid|false|  21|2018-11-08 21:16:25|  null|\n",
      "|       Thumbs Up| paid|false|  22|2018-11-08 22:06:03|  null|\n",
      "|            Home| paid|false|  23|2018-11-12 23:57:25|  null|\n",
      "|        Settings| paid|false|  23|2018-11-12 23:58:06|  null|\n",
      "|   Save Settings| paid|false|  23|2018-11-12 23:58:07|  null|\n",
      "|            Home| paid|false|  23|2018-11-12 23:58:40|  null|\n",
      "|       Downgrade| paid|false|   2|2018-11-13 02:15:46|  null|\n",
      "|       Thumbs Up| paid|false|   2|2018-11-13 02:32:39|  null|\n",
      "|            Home| paid|false|   3|2018-11-13 03:01:52|  null|\n",
      "|      Add Friend| paid|false|   3|2018-11-13 03:42:46|  null|\n",
      "|       Thumbs Up| paid|false|   4|2018-11-13 04:32:18|  null|\n",
      "|            Home| paid|false|   4|2018-11-13 04:55:42|  null|\n",
      "|       Downgrade| paid|false|   5|2018-11-13 05:33:15|  null|\n",
      "|        Settings| paid|false|   5|2018-11-13 05:37:53|  null|\n",
      "|        Settings| paid|false|   6|2018-11-13 06:04:26|  null|\n",
      "|          Logout| paid|false|   6|2018-11-13 06:07:11|  null|\n",
      "|            Home| paid|false|   6|2018-11-13 06:07:37|  null|\n",
      "| Add to Playlist| paid|false|   6|2018-11-13 06:16:47|  null|\n",
      "|       Thumbs Up| paid|false|   6|2018-11-13 06:18:20|  null|\n",
      "|       Downgrade| paid|false|   6|2018-11-13 06:37:56|  null|\n",
      "|Submit Downgrade| paid|false|   6|2018-11-13 06:37:57|  null|\n",
      "|            Home| free|false|   6|2018-11-13 06:38:44|  null|\n",
      "|       Thumbs Up| free|false|   6|2018-11-13 06:55:39|  null|\n",
      "|     Roll Advert| free|false|   7|2018-11-13 07:03:25|  null|\n",
      "|       Thumbs Up| free|false|   7|2018-11-13 07:06:14|  null|\n",
      "|            Home| free|false|   7|2018-11-13 07:12:28|  null|\n",
      "|       Thumbs Up| free|false|   7|2018-11-13 07:28:55|  null|\n",
      "|     Roll Advert| free|false|   7|2018-11-13 07:49:57|  null|\n",
      "|       Thumbs Up| free|false|   8|2018-11-13 08:09:14|  null|\n",
      "|     Roll Advert| free|false|   8|2018-11-13 08:18:51|  null|\n",
      "|            Help| free|false|   8|2018-11-13 08:30:42|  null|\n",
      "|         Upgrade| free|false|   8|2018-11-13 08:30:47|  null|\n",
      "|           Error| free|false|   8|2018-11-13 08:31:35|  null|\n",
      "|       Thumbs Up| free|false|   9|2018-11-13 09:02:19|  null|\n",
      "|      Add Friend| free|false|   9|2018-11-13 09:12:42|  null|\n",
      "|      Add Friend| free|false|   9|2018-11-13 09:12:43|  null|\n",
      "|      Add Friend| free|false|   9|2018-11-13 09:12:44|  null|\n",
      "|      Add Friend| free|false|   9|2018-11-13 09:12:45|  null|\n",
      "|            Home| free|false|   9|2018-11-13 09:14:39|  null|\n",
      "|      Add Friend| free|false|   9|2018-11-13 09:14:40|  null|\n",
      "|     Roll Advert| free|false|   9|2018-11-13 09:22:14|  null|\n",
      "|     Roll Advert| free|false|  10|2018-11-13 10:37:08|  null|\n",
      "|     Roll Advert| free|false|  11|2018-11-13 11:20:24|  null|\n",
      "|       Thumbs Up| free|false|  11|2018-11-13 11:30:15|  null|\n",
      "|     Roll Advert| free|false|  11|2018-11-13 11:44:39|  null|\n",
      "|        Settings| free|false|  12|2018-11-13 12:04:51|  null|\n",
      "|            Home| free|false|  12|2018-11-13 12:09:16|  null|\n",
      "|            Home| free|false|  12|2018-11-13 12:57:26|  null|\n",
      "|            Home| free|false|  16|2018-11-13 16:17:10|  null|\n",
      "|     Roll Advert| free|false|  16|2018-11-13 16:52:55|  null|\n",
      "| Add to Playlist| free|false|  17|2018-11-13 17:26:53|  null|\n",
      "|     Roll Advert| free|false|  17|2018-11-13 17:36:12|  null|\n",
      "| Add to Playlist| free|false|  17|2018-11-13 17:40:42|  null|\n",
      "|     Roll Advert| free|false|  17|2018-11-13 17:59:33|  null|\n",
      "|          Logout| free|false|  18|2018-11-13 18:21:45|  null|\n",
      "|            Home| free|false|  18|2018-11-13 18:21:52|  null|\n",
      "|     Roll Advert| free|false|  18|2018-11-13 18:42:59|  null|\n",
      "|            Help| free|false|  18|2018-11-13 18:53:57|  null|\n",
      "|            Home| free|false|   3|2018-11-27 03:08:50|  null|\n",
      "|      Add Friend| free|false|   3|2018-11-27 03:08:51|  null|\n",
      "|      Add Friend| free|false|   3|2018-11-27 03:08:52|  null|\n",
      "|      Add Friend| free|false|   3|2018-11-27 03:08:53|  null|\n",
      "|            Home| free|false|   3|2018-11-27 03:13:05|  null|\n",
      "|            Home| free|false|  12|2018-11-30 12:50:44|  null|\n",
      "| Add to Playlist| free|false|  12|2018-11-30 12:52:40|  null|\n",
      "| Add to Playlist| free|false|  13|2018-11-30 13:11:02|  null|\n",
      "|       Thumbs Up| free|false|  13|2018-11-30 13:23:10|  null|\n",
      "|         Upgrade| free|false|  13|2018-11-30 13:31:03|  null|\n",
      "|  Submit Upgrade| free|false|  13|2018-11-30 13:31:04|  null|\n",
      "|            Home| paid|false|  13|2018-11-30 13:31:23|  null|\n",
      "|          Logout| paid|false|  13|2018-11-30 13:31:24|  null|\n",
      "|            Home| paid|false|  13|2018-11-30 13:32:45|  null|\n",
      "+----------------+-----+-----+----+-------------------+------+\n",
      "\n"
     ]
    }
   ],
   "source": [
    "user_49.filter(user_49.page!='NextSong').select(['page', 'level', 'Churn', 'hour', 'time', 'length']).show(219)"
   ]
  },
  {
   "cell_type": "markdown",
   "metadata": {},
   "source": [
    "**To include other users in Churn process who downgraded from Paid to Free tier, we need to make sure that their current level is free. Just filtering based on \"Submit Downgrade\" event is not enough.**\n",
    "\n",
    "**For Now, Let's focus on users who cancelled the account**"
   ]
  },
  {
   "cell_type": "code",
   "execution_count": null,
   "metadata": {},
   "outputs": [],
   "source": []
  },
  {
   "cell_type": "markdown",
   "metadata": {},
   "source": [
    "# Exploratory Data Analysis\n",
    "When you're working with the full dataset, perform EDA by loading a small subset of the data and doing basic manipulations within Spark. In this workspace, you are already provided a small subset of data you can explore.\n",
    "\n",
    "### Define Churn\n",
    "\n",
    "Once you've done some preliminary analysis, create a column `Churn` to use as the label for your model. I suggest using the `Cancellation Confirmation` events to define your churn, which happen for both paid and free users. As a bonus task, you can also look into the `Downgrade` events.\n",
    "\n",
    "### Explore Data\n",
    "Once you've defined churn, perform some exploratory data analysis to observe the behavior for users who stayed vs users who churned. You can start by exploring aggregates on these two groups of users, observing how much of a specific action they experienced per a certain time unit or number of songs played."
   ]
  },
  {
   "cell_type": "code",
   "execution_count": 29,
   "metadata": {},
   "outputs": [],
   "source": [
    "df_pandas = df.toPandas()"
   ]
  },
  {
   "cell_type": "code",
   "execution_count": 30,
   "metadata": {},
   "outputs": [
    {
     "data": {
      "text/html": [
       "<div>\n",
       "<style scoped>\n",
       "    .dataframe tbody tr th:only-of-type {\n",
       "        vertical-align: middle;\n",
       "    }\n",
       "\n",
       "    .dataframe tbody tr th {\n",
       "        vertical-align: top;\n",
       "    }\n",
       "\n",
       "    .dataframe thead th {\n",
       "        text-align: right;\n",
       "    }\n",
       "</style>\n",
       "<table border=\"1\" class=\"dataframe\">\n",
       "  <thead>\n",
       "    <tr style=\"text-align: right;\">\n",
       "      <th></th>\n",
       "      <th>artist</th>\n",
       "      <th>auth</th>\n",
       "      <th>firstName</th>\n",
       "      <th>gender</th>\n",
       "      <th>itemInSession</th>\n",
       "      <th>lastName</th>\n",
       "      <th>length</th>\n",
       "      <th>level</th>\n",
       "      <th>location</th>\n",
       "      <th>method</th>\n",
       "      <th>...</th>\n",
       "      <th>registration</th>\n",
       "      <th>sessionId</th>\n",
       "      <th>song</th>\n",
       "      <th>status</th>\n",
       "      <th>ts</th>\n",
       "      <th>userAgent</th>\n",
       "      <th>userId</th>\n",
       "      <th>hour</th>\n",
       "      <th>time</th>\n",
       "      <th>Churn</th>\n",
       "    </tr>\n",
       "  </thead>\n",
       "  <tbody>\n",
       "    <tr>\n",
       "      <th>0</th>\n",
       "      <td>Martha Tilston</td>\n",
       "      <td>Logged In</td>\n",
       "      <td>Colin</td>\n",
       "      <td>M</td>\n",
       "      <td>50</td>\n",
       "      <td>Freeman</td>\n",
       "      <td>277.89016</td>\n",
       "      <td>paid</td>\n",
       "      <td>Bakersfield, CA</td>\n",
       "      <td>PUT</td>\n",
       "      <td>...</td>\n",
       "      <td>1538173362000</td>\n",
       "      <td>29</td>\n",
       "      <td>Rockpools</td>\n",
       "      <td>200</td>\n",
       "      <td>1538352117000</td>\n",
       "      <td>Mozilla/5.0 (Windows NT 6.1; WOW64; rv:31.0) G...</td>\n",
       "      <td>30</td>\n",
       "      <td>0</td>\n",
       "      <td>2018-10-01 00:01:57</td>\n",
       "      <td>False</td>\n",
       "    </tr>\n",
       "    <tr>\n",
       "      <th>1</th>\n",
       "      <td>Five Iron Frenzy</td>\n",
       "      <td>Logged In</td>\n",
       "      <td>Micah</td>\n",
       "      <td>M</td>\n",
       "      <td>79</td>\n",
       "      <td>Long</td>\n",
       "      <td>236.09424</td>\n",
       "      <td>free</td>\n",
       "      <td>Boston-Cambridge-Newton, MA-NH</td>\n",
       "      <td>PUT</td>\n",
       "      <td>...</td>\n",
       "      <td>1538331630000</td>\n",
       "      <td>8</td>\n",
       "      <td>Canada</td>\n",
       "      <td>200</td>\n",
       "      <td>1538352180000</td>\n",
       "      <td>\"Mozilla/5.0 (Windows NT 6.1; WOW64) AppleWebK...</td>\n",
       "      <td>9</td>\n",
       "      <td>0</td>\n",
       "      <td>2018-10-01 00:03:00</td>\n",
       "      <td>False</td>\n",
       "    </tr>\n",
       "    <tr>\n",
       "      <th>2</th>\n",
       "      <td>Adam Lambert</td>\n",
       "      <td>Logged In</td>\n",
       "      <td>Colin</td>\n",
       "      <td>M</td>\n",
       "      <td>51</td>\n",
       "      <td>Freeman</td>\n",
       "      <td>282.82730</td>\n",
       "      <td>paid</td>\n",
       "      <td>Bakersfield, CA</td>\n",
       "      <td>PUT</td>\n",
       "      <td>...</td>\n",
       "      <td>1538173362000</td>\n",
       "      <td>29</td>\n",
       "      <td>Time For Miracles</td>\n",
       "      <td>200</td>\n",
       "      <td>1538352394000</td>\n",
       "      <td>Mozilla/5.0 (Windows NT 6.1; WOW64; rv:31.0) G...</td>\n",
       "      <td>30</td>\n",
       "      <td>0</td>\n",
       "      <td>2018-10-01 00:06:34</td>\n",
       "      <td>False</td>\n",
       "    </tr>\n",
       "    <tr>\n",
       "      <th>3</th>\n",
       "      <td>Enigma</td>\n",
       "      <td>Logged In</td>\n",
       "      <td>Micah</td>\n",
       "      <td>M</td>\n",
       "      <td>80</td>\n",
       "      <td>Long</td>\n",
       "      <td>262.71302</td>\n",
       "      <td>free</td>\n",
       "      <td>Boston-Cambridge-Newton, MA-NH</td>\n",
       "      <td>PUT</td>\n",
       "      <td>...</td>\n",
       "      <td>1538331630000</td>\n",
       "      <td>8</td>\n",
       "      <td>Knocking On Forbidden Doors</td>\n",
       "      <td>200</td>\n",
       "      <td>1538352416000</td>\n",
       "      <td>\"Mozilla/5.0 (Windows NT 6.1; WOW64) AppleWebK...</td>\n",
       "      <td>9</td>\n",
       "      <td>0</td>\n",
       "      <td>2018-10-01 00:06:56</td>\n",
       "      <td>False</td>\n",
       "    </tr>\n",
       "    <tr>\n",
       "      <th>4</th>\n",
       "      <td>Daft Punk</td>\n",
       "      <td>Logged In</td>\n",
       "      <td>Colin</td>\n",
       "      <td>M</td>\n",
       "      <td>52</td>\n",
       "      <td>Freeman</td>\n",
       "      <td>223.60771</td>\n",
       "      <td>paid</td>\n",
       "      <td>Bakersfield, CA</td>\n",
       "      <td>PUT</td>\n",
       "      <td>...</td>\n",
       "      <td>1538173362000</td>\n",
       "      <td>29</td>\n",
       "      <td>Harder Better Faster Stronger</td>\n",
       "      <td>200</td>\n",
       "      <td>1538352676000</td>\n",
       "      <td>Mozilla/5.0 (Windows NT 6.1; WOW64; rv:31.0) G...</td>\n",
       "      <td>30</td>\n",
       "      <td>0</td>\n",
       "      <td>2018-10-01 00:11:16</td>\n",
       "      <td>False</td>\n",
       "    </tr>\n",
       "  </tbody>\n",
       "</table>\n",
       "<p>5 rows × 21 columns</p>\n",
       "</div>"
      ],
      "text/plain": [
       "             artist       auth firstName gender  itemInSession lastName  \\\n",
       "0    Martha Tilston  Logged In     Colin      M             50  Freeman   \n",
       "1  Five Iron Frenzy  Logged In     Micah      M             79     Long   \n",
       "2      Adam Lambert  Logged In     Colin      M             51  Freeman   \n",
       "3            Enigma  Logged In     Micah      M             80     Long   \n",
       "4         Daft Punk  Logged In     Colin      M             52  Freeman   \n",
       "\n",
       "      length level                        location method  ...    \\\n",
       "0  277.89016  paid                 Bakersfield, CA    PUT  ...     \n",
       "1  236.09424  free  Boston-Cambridge-Newton, MA-NH    PUT  ...     \n",
       "2  282.82730  paid                 Bakersfield, CA    PUT  ...     \n",
       "3  262.71302  free  Boston-Cambridge-Newton, MA-NH    PUT  ...     \n",
       "4  223.60771  paid                 Bakersfield, CA    PUT  ...     \n",
       "\n",
       "    registration  sessionId                           song status  \\\n",
       "0  1538173362000         29                      Rockpools    200   \n",
       "1  1538331630000          8                         Canada    200   \n",
       "2  1538173362000         29              Time For Miracles    200   \n",
       "3  1538331630000          8    Knocking On Forbidden Doors    200   \n",
       "4  1538173362000         29  Harder Better Faster Stronger    200   \n",
       "\n",
       "              ts                                          userAgent userId  \\\n",
       "0  1538352117000  Mozilla/5.0 (Windows NT 6.1; WOW64; rv:31.0) G...     30   \n",
       "1  1538352180000  \"Mozilla/5.0 (Windows NT 6.1; WOW64) AppleWebK...      9   \n",
       "2  1538352394000  Mozilla/5.0 (Windows NT 6.1; WOW64; rv:31.0) G...     30   \n",
       "3  1538352416000  \"Mozilla/5.0 (Windows NT 6.1; WOW64) AppleWebK...      9   \n",
       "4  1538352676000  Mozilla/5.0 (Windows NT 6.1; WOW64; rv:31.0) G...     30   \n",
       "\n",
       "  hour                 time  Churn  \n",
       "0    0  2018-10-01 00:01:57  False  \n",
       "1    0  2018-10-01 00:03:00  False  \n",
       "2    0  2018-10-01 00:06:34  False  \n",
       "3    0  2018-10-01 00:06:56  False  \n",
       "4    0  2018-10-01 00:11:16  False  \n",
       "\n",
       "[5 rows x 21 columns]"
      ]
     },
     "execution_count": 30,
     "metadata": {},
     "output_type": "execute_result"
    }
   ],
   "source": [
    "df_pandas.head()"
   ]
  },
  {
   "cell_type": "code",
   "execution_count": 31,
   "metadata": {},
   "outputs": [
    {
     "data": {
      "image/png": "[encoded data removed]",
      "text/plain": [
       "<matplotlib.figure.Figure at 0x7fb7c033beb8>"
      ]
     },
     "metadata": {
      "needs_background": "light"
     },
     "output_type": "display_data"
    }
   ],
   "source": [
    "plt.figure(figsize=(8,6))\n",
    "sns.countplot(df_pandas.Churn, palette='Paired')\n",
    "plt.xlabel('Churn Type')\n",
    "plt.ylabel('Number of Users')\n",
    "plt.title('Total Users Categorization',color = 'blue',fontsize=15);"
   ]
  },
  {
   "cell_type": "code",
   "execution_count": 32,
   "metadata": {},
   "outputs": [
    {
     "data": {
      "image/png": "[encoded data removed]",
      "text/plain": [
       "<matplotlib.figure.Figure at 0x7fb7b4a03780>"
      ]
     },
     "metadata": {
      "needs_background": "light"
     },
     "output_type": "display_data"
    }
   ],
   "source": [
    "churnByGender= df_pandas[['Churn', 'gender', 'userId']].groupby(['Churn', 'gender']).count()\n",
    "churnByGender.reset_index(inplace=True)\n",
    "plt.figure(figsize=(8,6))\n",
    "sns.barplot(x=\"Churn\", y='userId', hue=\"gender\", hue_order=['M','F'], data=churnByGender, palette='Paired')\n",
    "#plt.xticks(rotation=45)\n",
    "plt.xlabel('Churn Type')\n",
    "plt.ylabel('Number of Users')\n",
    "plt.title('Churned Users Categorized By Gender',color = 'blue',fontsize=15);"
   ]
  },
  {
   "cell_type": "code",
   "execution_count": 33,
   "metadata": {},
   "outputs": [
    {
     "data": {
      "image/png": "[encoded data removed]",
      "text/plain": [
       "<matplotlib.figure.Figure at 0x7fb7be3e1208>"
      ]
     },
     "metadata": {
      "needs_background": "light"
     },
     "output_type": "display_data"
    }
   ],
   "source": [
    "churnByEvents = df_pandas[df_pandas['page']!='NextSong'][['Churn', 'userId', 'page']].groupby(['Churn', 'page']).count()\n",
    "churnByEvents.reset_index(inplace=True)\n",
    "plt.figure(figsize=(15,6))\n",
    "sns.barplot(x=\"page\", y='userId', hue=\"Churn\", data=churnByEvents, palette='Paired')\n",
    "plt.xticks(rotation=45)\n",
    "plt.xlabel('Events Type')\n",
    "plt.ylabel('Number of Users')\n",
    "plt.title('Churned Users Categorized By Events',color = 'blue',fontsize=15);\n"
   ]
  },
  {
   "cell_type": "code",
   "execution_count": 34,
   "metadata": {},
   "outputs": [
    {
     "data": {
      "image/png": "[encoded data removed]",
      "text/plain": [
       "<matplotlib.figure.Figure at 0x7fb7bd8a6828>"
      ]
     },
     "metadata": {
      "needs_background": "light"
     },
     "output_type": "display_data"
    }
   ],
   "source": [
    "churnByLevel = df_pandas[['Churn', 'userId', 'level']].groupby(['Churn', 'level']).count()\n",
    "churnByLevel.reset_index(inplace=True)\n",
    "plt.figure(figsize=(7,5))\n",
    "sns.barplot(x=\"level\", y='userId', hue=\"Churn\", data=churnByLevel, palette='Paired')\n",
    "#plt.xticks(rotation=45)\n",
    "plt.xlabel('Service Type')\n",
    "plt.ylabel('Number of Users')\n",
    "plt.title('Churned Users Categorized By Opted Service Level',color = 'blue',fontsize=15);\n"
   ]
  },
  {
   "cell_type": "code",
   "execution_count": 35,
   "metadata": {},
   "outputs": [
    {
     "data": {
      "image/png": "[encoded data removed]",
      "text/plain": [
       "<matplotlib.figure.Figure at 0x7fb7d1fea0b8>"
      ]
     },
     "metadata": {
      "needs_background": "light"
     },
     "output_type": "display_data"
    }
   ],
   "source": [
    "churnByHour = df_pandas[['Churn', 'userId', 'hour']].groupby(['Churn', 'hour']).count()\n",
    "churnByHour.reset_index(inplace=True)\n",
    "churnByHour=churnByHour.astype('int')\n",
    "churnByHour.sort_values('hour', inplace=True)\n",
    "plt.figure(figsize=(15,5))\n",
    "sns.barplot(x=\"hour\", y='userId', hue=\"Churn\", data=churnByHour, palette='Paired')\n",
    "#plt.xticks(rotation=45)\n",
    "plt.xlabel('Hour of the Day')\n",
    "plt.ylabel('Number of Users')\n",
    "plt.title('Churned Users Categorized By Hour of the Day',color = 'blue',fontsize=15);\n"
   ]
  },
  {
   "cell_type": "markdown",
   "metadata": {},
   "source": [
    "# Feature Engineering\n",
    "Once you've familiarized yourself with the data, build out the features you find promising to train your model on. To work with the full dataset, you can follow the following steps.\n",
    "- Write a script to extract the necessary features from the smaller subset of data\n",
    "- Ensure that your script is scalable, using the best practices discussed in Lesson 3\n",
    "- Try your script on the full data set, debugging your script if necessary\n",
    "\n",
    "If you are working in the classroom workspace, you can just extract features based on the small subset of data contained here. Be sure to transfer over this work to the larger dataset when you work on your Spark cluster."
   ]
  },
  {
   "cell_type": "code",
   "execution_count": 36,
   "metadata": {},
   "outputs": [
    {
     "data": {
      "text/html": [
       "<div>\n",
       "<style scoped>\n",
       "    .dataframe tbody tr th:only-of-type {\n",
       "        vertical-align: middle;\n",
       "    }\n",
       "\n",
       "    .dataframe tbody tr th {\n",
       "        vertical-align: top;\n",
       "    }\n",
       "\n",
       "    .dataframe thead th {\n",
       "        text-align: right;\n",
       "    }\n",
       "</style>\n",
       "<table border=\"1\" class=\"dataframe\">\n",
       "  <thead>\n",
       "    <tr style=\"text-align: right;\">\n",
       "      <th></th>\n",
       "      <th>artist</th>\n",
       "      <th>auth</th>\n",
       "      <th>firstName</th>\n",
       "      <th>gender</th>\n",
       "      <th>itemInSession</th>\n",
       "      <th>lastName</th>\n",
       "      <th>length</th>\n",
       "      <th>level</th>\n",
       "      <th>location</th>\n",
       "      <th>method</th>\n",
       "      <th>...</th>\n",
       "      <th>registration</th>\n",
       "      <th>sessionId</th>\n",
       "      <th>song</th>\n",
       "      <th>status</th>\n",
       "      <th>ts</th>\n",
       "      <th>userAgent</th>\n",
       "      <th>userId</th>\n",
       "      <th>hour</th>\n",
       "      <th>time</th>\n",
       "      <th>Churn</th>\n",
       "    </tr>\n",
       "  </thead>\n",
       "  <tbody>\n",
       "    <tr>\n",
       "      <th>0</th>\n",
       "      <td>Martha Tilston</td>\n",
       "      <td>Logged In</td>\n",
       "      <td>Colin</td>\n",
       "      <td>M</td>\n",
       "      <td>50</td>\n",
       "      <td>Freeman</td>\n",
       "      <td>277.89016</td>\n",
       "      <td>paid</td>\n",
       "      <td>Bakersfield, CA</td>\n",
       "      <td>PUT</td>\n",
       "      <td>...</td>\n",
       "      <td>1538173362000</td>\n",
       "      <td>29</td>\n",
       "      <td>Rockpools</td>\n",
       "      <td>200</td>\n",
       "      <td>1538352117000</td>\n",
       "      <td>Mozilla/5.0 (Windows NT 6.1; WOW64; rv:31.0) G...</td>\n",
       "      <td>30</td>\n",
       "      <td>0</td>\n",
       "      <td>2018-10-01 00:01:57</td>\n",
       "      <td>False</td>\n",
       "    </tr>\n",
       "    <tr>\n",
       "      <th>1</th>\n",
       "      <td>Five Iron Frenzy</td>\n",
       "      <td>Logged In</td>\n",
       "      <td>Micah</td>\n",
       "      <td>M</td>\n",
       "      <td>79</td>\n",
       "      <td>Long</td>\n",
       "      <td>236.09424</td>\n",
       "      <td>free</td>\n",
       "      <td>Boston-Cambridge-Newton, MA-NH</td>\n",
       "      <td>PUT</td>\n",
       "      <td>...</td>\n",
       "      <td>1538331630000</td>\n",
       "      <td>8</td>\n",
       "      <td>Canada</td>\n",
       "      <td>200</td>\n",
       "      <td>1538352180000</td>\n",
       "      <td>\"Mozilla/5.0 (Windows NT 6.1; WOW64) AppleWebK...</td>\n",
       "      <td>9</td>\n",
       "      <td>0</td>\n",
       "      <td>2018-10-01 00:03:00</td>\n",
       "      <td>False</td>\n",
       "    </tr>\n",
       "  </tbody>\n",
       "</table>\n",
       "<p>2 rows × 21 columns</p>\n",
       "</div>"
      ],
      "text/plain": [
       "             artist       auth firstName gender  itemInSession lastName  \\\n",
       "0    Martha Tilston  Logged In     Colin      M             50  Freeman   \n",
       "1  Five Iron Frenzy  Logged In     Micah      M             79     Long   \n",
       "\n",
       "      length level                        location method  ...    \\\n",
       "0  277.89016  paid                 Bakersfield, CA    PUT  ...     \n",
       "1  236.09424  free  Boston-Cambridge-Newton, MA-NH    PUT  ...     \n",
       "\n",
       "    registration  sessionId       song status             ts  \\\n",
       "0  1538173362000         29  Rockpools    200  1538352117000   \n",
       "1  1538331630000          8     Canada    200  1538352180000   \n",
       "\n",
       "                                           userAgent userId hour  \\\n",
       "0  Mozilla/5.0 (Windows NT 6.1; WOW64; rv:31.0) G...     30    0   \n",
       "1  \"Mozilla/5.0 (Windows NT 6.1; WOW64) AppleWebK...      9    0   \n",
       "\n",
       "                  time  Churn  \n",
       "0  2018-10-01 00:01:57  False  \n",
       "1  2018-10-01 00:03:00  False  \n",
       "\n",
       "[2 rows x 21 columns]"
      ]
     },
     "execution_count": 36,
     "metadata": {},
     "output_type": "execute_result"
    }
   ],
   "source": [
    "df_pandas.head(2)"
   ]
  },
  {
   "cell_type": "code",
   "execution_count": 37,
   "metadata": {},
   "outputs": [
    {
     "name": "stdout",
     "output_type": "stream",
     "text": [
      "root\n",
      " |-- artist: string (nullable = true)\n",
      " |-- auth: string (nullable = true)\n",
      " |-- firstName: string (nullable = true)\n",
      " |-- gender: string (nullable = true)\n",
      " |-- itemInSession: long (nullable = true)\n",
      " |-- lastName: string (nullable = true)\n",
      " |-- length: double (nullable = true)\n",
      " |-- level: string (nullable = true)\n",
      " |-- location: string (nullable = true)\n",
      " |-- method: string (nullable = true)\n",
      " |-- page: string (nullable = true)\n",
      " |-- registration: long (nullable = true)\n",
      " |-- sessionId: long (nullable = true)\n",
      " |-- song: string (nullable = true)\n",
      " |-- status: long (nullable = true)\n",
      " |-- ts: long (nullable = true)\n",
      " |-- userAgent: string (nullable = true)\n",
      " |-- userId: string (nullable = true)\n",
      " |-- hour: string (nullable = true)\n",
      " |-- time: string (nullable = true)\n",
      " |-- Churn: boolean (nullable = true)\n",
      "\n"
     ]
    }
   ],
   "source": [
    "df.printSchema()"
   ]
  },
  {
   "cell_type": "code",
   "execution_count": 38,
   "metadata": {},
   "outputs": [
    {
     "data": {
      "text/plain": [
       "['artist',\n",
       " 'auth',\n",
       " 'firstName',\n",
       " 'gender',\n",
       " 'itemInSession',\n",
       " 'lastName',\n",
       " 'length',\n",
       " 'level',\n",
       " 'location',\n",
       " 'method',\n",
       " 'page',\n",
       " 'registration',\n",
       " 'sessionId',\n",
       " 'song',\n",
       " 'status',\n",
       " 'ts',\n",
       " 'userAgent',\n",
       " 'userId',\n",
       " 'hour',\n",
       " 'time',\n",
       " 'Churn']"
      ]
     },
     "execution_count": 38,
     "metadata": {},
     "output_type": "execute_result"
    }
   ],
   "source": [
    "df.columns"
   ]
  },
  {
   "cell_type": "markdown",
   "metadata": {},
   "source": [
    "**After initial analysis, I am deciding to keep below column to start feature engineering and modelling.**\n",
    "\n",
    "**['artist', 'gender', 'level', 'page', 'song','userId', 'Churn']**"
   ]
  },
  {
   "cell_type": "code",
   "execution_count": 39,
   "metadata": {},
   "outputs": [],
   "source": [
    "\n",
    "df = df.select(['artist', 'gender', 'level', 'page', 'song','userId', 'Churn'])\n",
    "\n"
   ]
  },
  {
   "cell_type": "code",
   "execution_count": 40,
   "metadata": {},
   "outputs": [
    {
     "data": {
      "text/plain": [
       "['artist', 'gender', 'level', 'page', 'song', 'userId', 'Churn']"
      ]
     },
     "execution_count": 40,
     "metadata": {},
     "output_type": "execute_result"
    }
   ],
   "source": [
    "df.columns"
   ]
  },
  {
   "cell_type": "code",
   "execution_count": 41,
   "metadata": {},
   "outputs": [
    {
     "name": "stdout",
     "output_type": "stream",
     "text": [
      "+-------+------------------+------+------+-------+--------------------+-----------------+\n",
      "|summary|            artist|gender| level|   page|                song|           userId|\n",
      "+-------+------------------+------+------+-------+--------------------+-----------------+\n",
      "|  count|            228108|278154|278154| 278154|              228108|           278154|\n",
      "|   mean| 551.0852017937219|  null|  null|   null|            Infinity|59682.02278593872|\n",
      "| stddev|1217.7693079161374|  null|  null|   null|                 NaN|109091.9499991047|\n",
      "|    min|               !!!|     F|  free|  About|\u001c",
      "ÃÂg ÃÂtti Gr...|               10|\n",
      "|    max| ÃÂlafur Arnalds|     M|  paid|Upgrade|ÃÂau hafa slopp...|               99|\n",
      "+-------+------------------+------+------+-------+--------------------+-----------------+\n",
      "\n"
     ]
    }
   ],
   "source": [
    "df.describe().show()"
   ]
  },
  {
   "cell_type": "code",
   "execution_count": 42,
   "metadata": {},
   "outputs": [
    {
     "name": "stdout",
     "output_type": "stream",
     "text": [
      "root\n",
      " |-- artist: string (nullable = true)\n",
      " |-- gender: string (nullable = true)\n",
      " |-- level: string (nullable = true)\n",
      " |-- page: string (nullable = true)\n",
      " |-- song: string (nullable = true)\n",
      " |-- userId: string (nullable = true)\n",
      " |-- Churn: boolean (nullable = true)\n",
      "\n"
     ]
    }
   ],
   "source": [
    "df.printSchema()"
   ]
  },
  {
   "cell_type": "code",
   "execution_count": 43,
   "metadata": {},
   "outputs": [],
   "source": [
    "df = df.replace(['F','M'], ['1', '0'], 'gender')"
   ]
  },
  {
   "cell_type": "code",
   "execution_count": 44,
   "metadata": {},
   "outputs": [],
   "source": [
    "df = df.withColumn(\"gender\", df[\"gender\"].cast(IntegerType()))\n"
   ]
  },
  {
   "cell_type": "code",
   "execution_count": 45,
   "metadata": {},
   "outputs": [],
   "source": [
    "df = df.withColumn(\"Churn\", df[\"Churn\"].cast(IntegerType()))\n",
    "df = df.withColumn(\"userId\", df[\"userId\"].cast(IntegerType()))\n",
    "df = df.replace(['free','paid'], ['0', '1'], 'level')\n",
    "df = df.withColumn(\"level\", df[\"level\"].cast(IntegerType()))"
   ]
  },
  {
   "cell_type": "code",
   "execution_count": 46,
   "metadata": {},
   "outputs": [
    {
     "name": "stdout",
     "output_type": "stream",
     "text": [
      "root\n",
      " |-- artist: string (nullable = true)\n",
      " |-- gender: integer (nullable = true)\n",
      " |-- level: integer (nullable = true)\n",
      " |-- page: string (nullable = true)\n",
      " |-- song: string (nullable = true)\n",
      " |-- userId: integer (nullable = true)\n",
      " |-- Churn: integer (nullable = true)\n",
      "\n"
     ]
    }
   ],
   "source": [
    "df.printSchema()"
   ]
  },
  {
   "cell_type": "code",
   "execution_count": 47,
   "metadata": {},
   "outputs": [
    {
     "name": "stdout",
     "output_type": "stream",
     "text": [
      "+----------------+------+-----+--------+---------+------+-----+\n",
      "|          artist|gender|level|    page|     song|userId|Churn|\n",
      "+----------------+------+-----+--------+---------+------+-----+\n",
      "|  Martha Tilston|     0|    1|NextSong|Rockpools|    30|    0|\n",
      "|Five Iron Frenzy|     0|    0|NextSong|   Canada|     9|    0|\n",
      "+----------------+------+-----+--------+---------+------+-----+\n",
      "only showing top 2 rows\n",
      "\n"
     ]
    }
   ],
   "source": [
    "df.show(2)"
   ]
  },
  {
   "cell_type": "code",
   "execution_count": 48,
   "metadata": {},
   "outputs": [
    {
     "name": "stdout",
     "output_type": "stream",
     "text": [
      "+--------------------+\n",
      "|                page|\n",
      "+--------------------+\n",
      "|              Cancel|\n",
      "|    Submit Downgrade|\n",
      "|         Thumbs Down|\n",
      "|                Home|\n",
      "|           Downgrade|\n",
      "|         Roll Advert|\n",
      "|              Logout|\n",
      "|       Save Settings|\n",
      "|Cancellation Conf...|\n",
      "|               About|\n",
      "|            Settings|\n",
      "|     Add to Playlist|\n",
      "|          Add Friend|\n",
      "|            NextSong|\n",
      "|           Thumbs Up|\n",
      "|                Help|\n",
      "|             Upgrade|\n",
      "|               Error|\n",
      "|      Submit Upgrade|\n",
      "+--------------------+\n",
      "\n"
     ]
    }
   ],
   "source": [
    "df.select('page').drop_duplicates().show()"
   ]
  },
  {
   "cell_type": "code",
   "execution_count": 49,
   "metadata": {},
   "outputs": [
    {
     "name": "stdout",
     "output_type": "stream",
     "text": [
      "+------+-----+------+-----+-----+\n",
      "|userId|Churn|gender|level|count|\n",
      "+------+-----+------+-----+-----+\n",
      "|200008|    0|     1|    1| 1988|\n",
      "|    93|    0|     0|    0|  566|\n",
      "|100013|    1|     1|    0|  303|\n",
      "|    91|    0|     0|    1| 2862|\n",
      "|     4|    0|     0|    0|  141|\n",
      "|300021|    0|     1|    1| 4650|\n",
      "|100019|    1|     0|    0|   89|\n",
      "|100021|    1|     0|    0|  319|\n",
      "|   140|    0|     1|    1| 5662|\n",
      "|    73|    1|     1|    0|   16|\n",
      "|    59|    0|     0|    1|  693|\n",
      "|200025|    0|     0|    0|  597|\n",
      "|    41|    0|     1|    1| 2220|\n",
      "|    37|    0|     0|    0|   79|\n",
      "|    54|    1|     1|    1| 2859|\n",
      "|    69|    0|     1|    0|   39|\n",
      "|200024|    1|     0|    0|  342|\n",
      "|300005|    0|     1|    0|   64|\n",
      "|    27|    0|     0|    0|  291|\n",
      "|   101|    1|     0|    0|   76|\n",
      "+------+-----+------+-----+-----+\n",
      "only showing top 20 rows\n",
      "\n"
     ]
    }
   ],
   "source": [
    "df_sparkify = df.groupBy([\"userId\", \"Churn\", \"gender\", \"level\"]).count()\n",
    "df_sparkify.show()"
   ]
  },
  {
   "cell_type": "code",
   "execution_count": 50,
   "metadata": {},
   "outputs": [],
   "source": [
    "Event_list = [(row['page']) for row in df.select('page').dropDuplicates().collect()]\n",
    "#df = df.withColumn(\"Churn\", df.userId.isin(ChurnUser_list))\n",
    "for event in Event_list:\n",
    "    df_temp = df.filter(df.page==event).groupBy(df.userId).count()\n",
    "    df_temp = df_temp.withColumnRenamed('count', event)\n",
    "    df_sparkify = df_sparkify.join(df_temp, 'userId', how='left')\n",
    "\n",
    "#df_dummy.show()"
   ]
  },
  {
   "cell_type": "code",
   "execution_count": 51,
   "metadata": {},
   "outputs": [
    {
     "name": "stdout",
     "output_type": "stream",
     "text": [
      "root\n",
      " |-- userId: integer (nullable = true)\n",
      " |-- Churn: integer (nullable = true)\n",
      " |-- gender: integer (nullable = true)\n",
      " |-- level: integer (nullable = true)\n",
      " |-- count: long (nullable = false)\n",
      " |-- Cancel: long (nullable = true)\n",
      " |-- Submit Downgrade: long (nullable = true)\n",
      " |-- Thumbs Down: long (nullable = true)\n",
      " |-- Home: long (nullable = true)\n",
      " |-- Downgrade: long (nullable = true)\n",
      " |-- Roll Advert: long (nullable = true)\n",
      " |-- Logout: long (nullable = true)\n",
      " |-- Save Settings: long (nullable = true)\n",
      " |-- Cancellation Confirmation: long (nullable = true)\n",
      " |-- About: long (nullable = true)\n",
      " |-- Settings: long (nullable = true)\n",
      " |-- Add to Playlist: long (nullable = true)\n",
      " |-- Add Friend: long (nullable = true)\n",
      " |-- NextSong: long (nullable = true)\n",
      " |-- Thumbs Up: long (nullable = true)\n",
      " |-- Help: long (nullable = true)\n",
      " |-- Upgrade: long (nullable = true)\n",
      " |-- Error: long (nullable = true)\n",
      " |-- Submit Upgrade: long (nullable = true)\n",
      "\n"
     ]
    }
   ],
   "source": [
    "df_sparkify.printSchema()"
   ]
  },
  {
   "cell_type": "code",
   "execution_count": 52,
   "metadata": {},
   "outputs": [
    {
     "data": {
      "text/html": [
       "<div>\n",
       "<style scoped>\n",
       "    .dataframe tbody tr th:only-of-type {\n",
       "        vertical-align: middle;\n",
       "    }\n",
       "\n",
       "    .dataframe tbody tr th {\n",
       "        vertical-align: top;\n",
       "    }\n",
       "\n",
       "    .dataframe thead th {\n",
       "        text-align: right;\n",
       "    }\n",
       "</style>\n",
       "<table border=\"1\" class=\"dataframe\">\n",
       "  <thead>\n",
       "    <tr style=\"text-align: right;\">\n",
       "      <th></th>\n",
       "      <th>userId</th>\n",
       "      <th>Churn</th>\n",
       "      <th>gender</th>\n",
       "      <th>level</th>\n",
       "      <th>count</th>\n",
       "      <th>Cancel</th>\n",
       "      <th>Submit Downgrade</th>\n",
       "      <th>Thumbs Down</th>\n",
       "      <th>Home</th>\n",
       "      <th>Downgrade</th>\n",
       "      <th>...</th>\n",
       "      <th>About</th>\n",
       "      <th>Settings</th>\n",
       "      <th>Add to Playlist</th>\n",
       "      <th>Add Friend</th>\n",
       "      <th>NextSong</th>\n",
       "      <th>Thumbs Up</th>\n",
       "      <th>Help</th>\n",
       "      <th>Upgrade</th>\n",
       "      <th>Error</th>\n",
       "      <th>Submit Upgrade</th>\n",
       "    </tr>\n",
       "  </thead>\n",
       "  <tbody>\n",
       "    <tr>\n",
       "      <th>0</th>\n",
       "      <td>200008</td>\n",
       "      <td>0</td>\n",
       "      <td>1</td>\n",
       "      <td>1</td>\n",
       "      <td>1988</td>\n",
       "      <td>NaN</td>\n",
       "      <td>NaN</td>\n",
       "      <td>52.0</td>\n",
       "      <td>71.0</td>\n",
       "      <td>24.0</td>\n",
       "      <td>...</td>\n",
       "      <td>9.0</td>\n",
       "      <td>10.0</td>\n",
       "      <td>45.0</td>\n",
       "      <td>27.0</td>\n",
       "      <td>1669</td>\n",
       "      <td>68.0</td>\n",
       "      <td>4.0</td>\n",
       "      <td>1.0</td>\n",
       "      <td>3.0</td>\n",
       "      <td>1.0</td>\n",
       "    </tr>\n",
       "    <tr>\n",
       "      <th>1</th>\n",
       "      <td>93</td>\n",
       "      <td>0</td>\n",
       "      <td>0</td>\n",
       "      <td>0</td>\n",
       "      <td>566</td>\n",
       "      <td>NaN</td>\n",
       "      <td>NaN</td>\n",
       "      <td>4.0</td>\n",
       "      <td>31.0</td>\n",
       "      <td>3.0</td>\n",
       "      <td>...</td>\n",
       "      <td>2.0</td>\n",
       "      <td>5.0</td>\n",
       "      <td>17.0</td>\n",
       "      <td>13.0</td>\n",
       "      <td>640</td>\n",
       "      <td>35.0</td>\n",
       "      <td>7.0</td>\n",
       "      <td>3.0</td>\n",
       "      <td>NaN</td>\n",
       "      <td>1.0</td>\n",
       "    </tr>\n",
       "    <tr>\n",
       "      <th>2</th>\n",
       "      <td>100013</td>\n",
       "      <td>1</td>\n",
       "      <td>1</td>\n",
       "      <td>0</td>\n",
       "      <td>303</td>\n",
       "      <td>1.0</td>\n",
       "      <td>NaN</td>\n",
       "      <td>15.0</td>\n",
       "      <td>53.0</td>\n",
       "      <td>13.0</td>\n",
       "      <td>...</td>\n",
       "      <td>2.0</td>\n",
       "      <td>7.0</td>\n",
       "      <td>31.0</td>\n",
       "      <td>28.0</td>\n",
       "      <td>1131</td>\n",
       "      <td>39.0</td>\n",
       "      <td>9.0</td>\n",
       "      <td>4.0</td>\n",
       "      <td>2.0</td>\n",
       "      <td>1.0</td>\n",
       "    </tr>\n",
       "    <tr>\n",
       "      <th>3</th>\n",
       "      <td>91</td>\n",
       "      <td>0</td>\n",
       "      <td>0</td>\n",
       "      <td>1</td>\n",
       "      <td>2862</td>\n",
       "      <td>NaN</td>\n",
       "      <td>NaN</td>\n",
       "      <td>24.0</td>\n",
       "      <td>90.0</td>\n",
       "      <td>22.0</td>\n",
       "      <td>...</td>\n",
       "      <td>5.0</td>\n",
       "      <td>12.0</td>\n",
       "      <td>64.0</td>\n",
       "      <td>42.0</td>\n",
       "      <td>2580</td>\n",
       "      <td>124.0</td>\n",
       "      <td>9.0</td>\n",
       "      <td>1.0</td>\n",
       "      <td>3.0</td>\n",
       "      <td>1.0</td>\n",
       "    </tr>\n",
       "    <tr>\n",
       "      <th>4</th>\n",
       "      <td>4</td>\n",
       "      <td>0</td>\n",
       "      <td>0</td>\n",
       "      <td>0</td>\n",
       "      <td>141</td>\n",
       "      <td>NaN</td>\n",
       "      <td>NaN</td>\n",
       "      <td>26.0</td>\n",
       "      <td>80.0</td>\n",
       "      <td>21.0</td>\n",
       "      <td>...</td>\n",
       "      <td>6.0</td>\n",
       "      <td>10.0</td>\n",
       "      <td>59.0</td>\n",
       "      <td>46.0</td>\n",
       "      <td>2048</td>\n",
       "      <td>95.0</td>\n",
       "      <td>12.0</td>\n",
       "      <td>4.0</td>\n",
       "      <td>4.0</td>\n",
       "      <td>1.0</td>\n",
       "    </tr>\n",
       "  </tbody>\n",
       "</table>\n",
       "<p>5 rows × 24 columns</p>\n",
       "</div>"
      ],
      "text/plain": [
       "   userId  Churn  gender  level  count  Cancel  Submit Downgrade  Thumbs Down  \\\n",
       "0  200008      0       1      1   1988     NaN               NaN         52.0   \n",
       "1      93      0       0      0    566     NaN               NaN          4.0   \n",
       "2  100013      1       1      0    303     1.0               NaN         15.0   \n",
       "3      91      0       0      1   2862     NaN               NaN         24.0   \n",
       "4       4      0       0      0    141     NaN               NaN         26.0   \n",
       "\n",
       "   Home  Downgrade       ...        About  Settings  Add to Playlist  \\\n",
       "0  71.0       24.0       ...          9.0      10.0             45.0   \n",
       "1  31.0        3.0       ...          2.0       5.0             17.0   \n",
       "2  53.0       13.0       ...          2.0       7.0             31.0   \n",
       "3  90.0       22.0       ...          5.0      12.0             64.0   \n",
       "4  80.0       21.0       ...          6.0      10.0             59.0   \n",
       "\n",
       "   Add Friend  NextSong  Thumbs Up  Help  Upgrade  Error  Submit Upgrade  \n",
       "0        27.0      1669       68.0   4.0      1.0    3.0             1.0  \n",
       "1        13.0       640       35.0   7.0      3.0    NaN             1.0  \n",
       "2        28.0      1131       39.0   9.0      4.0    2.0             1.0  \n",
       "3        42.0      2580      124.0   9.0      1.0    3.0             1.0  \n",
       "4        46.0      2048       95.0  12.0      4.0    4.0             1.0  \n",
       "\n",
       "[5 rows x 24 columns]"
      ]
     },
     "execution_count": 52,
     "metadata": {},
     "output_type": "execute_result"
    }
   ],
   "source": [
    "df_pandas = df_sparkify.toPandas()\n",
    "df_pandas.head()"
   ]
  },
  {
   "cell_type": "code",
   "execution_count": 53,
   "metadata": {},
   "outputs": [
    {
     "data": {
      "text/plain": [
       "userId                       0.000000\n",
       "Churn                        0.000000\n",
       "gender                       0.000000\n",
       "level                        0.000000\n",
       "count                        0.000000\n",
       "Cancel                       0.772222\n",
       "Submit Downgrade             0.727778\n",
       "Thumbs Down                  0.063889\n",
       "Home                         0.005556\n",
       "Downgrade                    0.219444\n",
       "Roll Advert                  0.063889\n",
       "Logout                       0.033333\n",
       "Save Settings                0.369444\n",
       "Cancellation Confirmation    0.772222\n",
       "About                        0.241667\n",
       "Settings                     0.100000\n",
       "Add to Playlist              0.027778\n",
       "Add Friend                   0.055556\n",
       "NextSong                     0.000000\n",
       "Thumbs Up                    0.013889\n",
       "Help                         0.105556\n",
       "Upgrade                      0.161111\n",
       "Error                        0.436111\n",
       "Submit Upgrade               0.272222\n",
       "dtype: float64"
      ]
     },
     "execution_count": 53,
     "metadata": {},
     "output_type": "execute_result"
    }
   ],
   "source": [
    "# Number of Null Values per column\n",
    "np.sum(df_pandas.isnull())/df_pandas.shape[0]"
   ]
  },
  {
   "cell_type": "code",
   "execution_count": 54,
   "metadata": {},
   "outputs": [],
   "source": [
    "# We can fill NaN Values with 0\n",
    "df_sparkify = df_sparkify.na.fill(0)"
   ]
  },
  {
   "cell_type": "code",
   "execution_count": 55,
   "metadata": {},
   "outputs": [
    {
     "name": "stdout",
     "output_type": "stream",
     "text": [
      "+------+-----+------+-----+-----+------+----------------+-----------+----+---------+-----------+------+-------------+-------------------------+-----+--------+---------------+----------+--------+---------+----+-------+-----+--------------+\n",
      "|userId|Churn|gender|level|count|Cancel|Submit Downgrade|Thumbs Down|Home|Downgrade|Roll Advert|Logout|Save Settings|Cancellation Confirmation|About|Settings|Add to Playlist|Add Friend|NextSong|Thumbs Up|Help|Upgrade|Error|Submit Upgrade|\n",
      "+------+-----+------+-----+-----+------+----------------+-----------+----+---------+-----------+------+-------------+-------------------------+-----+--------+---------------+----------+--------+---------+----+-------+-----+--------------+\n",
      "|200008|    0|     1|    1| 1988|     0|               0|         52|  71|       24|          4|    22|            2|                        0|    9|      10|             45|        27|    1669|       68|   4|      1|    3|             1|\n",
      "|    93|    0|     0|    0|  566|     0|               0|          4|  31|        3|         43|    10|            1|                        0|    2|       5|             17|        13|     640|       35|   7|      3|    0|             1|\n",
      "|100013|    1|     1|    0|  303|     1|               0|         15|  53|       13|         39|    13|            3|                        1|    2|       7|             31|        28|    1131|       39|   9|      4|    2|             1|\n",
      "|    91|    0|     0|    1| 2862|     0|               0|         24|  90|       22|          5|    31|            1|                        0|    5|      12|             64|        42|    2580|      124|   9|      1|    3|             1|\n",
      "|     4|    0|     0|    0|  141|     0|               0|         26|  80|       21|          4|    24|            2|                        0|    6|      10|             59|        46|    2048|       95|  12|      4|    4|             1|\n",
      "+------+-----+------+-----+-----+------+----------------+-----------+----+---------+-----------+------+-------------+-------------------------+-----+--------+---------------+----------+--------+---------+----+-------+-----+--------------+\n",
      "only showing top 5 rows\n",
      "\n"
     ]
    }
   ],
   "source": [
    "df_sparkify.show(5)"
   ]
  },
  {
   "cell_type": "code",
   "execution_count": 56,
   "metadata": {},
   "outputs": [
    {
     "name": "stdout",
     "output_type": "stream",
     "text": [
      "root\n",
      " |-- userId: integer (nullable = true)\n",
      " |-- Churn: integer (nullable = true)\n",
      " |-- gender: integer (nullable = true)\n",
      " |-- level: integer (nullable = true)\n",
      " |-- count: long (nullable = false)\n",
      " |-- Cancel: long (nullable = true)\n",
      " |-- Submit Downgrade: long (nullable = true)\n",
      " |-- Thumbs Down: long (nullable = true)\n",
      " |-- Home: long (nullable = true)\n",
      " |-- Downgrade: long (nullable = true)\n",
      " |-- Roll Advert: long (nullable = true)\n",
      " |-- Logout: long (nullable = true)\n",
      " |-- Save Settings: long (nullable = true)\n",
      " |-- Cancellation Confirmation: long (nullable = true)\n",
      " |-- About: long (nullable = true)\n",
      " |-- Settings: long (nullable = true)\n",
      " |-- Add to Playlist: long (nullable = true)\n",
      " |-- Add Friend: long (nullable = true)\n",
      " |-- NextSong: long (nullable = true)\n",
      " |-- Thumbs Up: long (nullable = true)\n",
      " |-- Help: long (nullable = true)\n",
      " |-- Upgrade: long (nullable = true)\n",
      " |-- Error: long (nullable = true)\n",
      " |-- Submit Upgrade: long (nullable = true)\n",
      "\n"
     ]
    }
   ],
   "source": [
    "df_sparkify.printSchema()"
   ]
  },
  {
   "cell_type": "markdown",
   "metadata": {},
   "source": [
    "## Dataset is ready now for Machine Learning Algorithm \n",
    "### Target Variable -> Churn"
   ]
  },
  {
   "cell_type": "code",
   "execution_count": null,
   "metadata": {},
   "outputs": [],
   "source": []
  },
  {
   "cell_type": "markdown",
   "metadata": {},
   "source": [
    "# Modeling\n",
    "Split the full dataset into train, test, and validation sets. Test out several of the machine learning methods you learned. Evaluate the accuracy of the various models, tuning parameters as necessary. Determine your winning model based on test accuracy and report results on the validation set. Since the churned users are a fairly small subset, I suggest using F1 score as the metric to optimize."
   ]
  },
  {
   "cell_type": "code",
   "execution_count": null,
   "metadata": {},
   "outputs": [],
   "source": []
  },
  {
   "cell_type": "markdown",
   "metadata": {},
   "source": [
    "# Start - Using Pandas and scikit-learn"
   ]
  },
  {
   "cell_type": "code",
   "execution_count": 57,
   "metadata": {},
   "outputs": [],
   "source": [
    "dfs = df_sparkify.toPandas()"
   ]
  },
  {
   "cell_type": "code",
   "execution_count": 58,
   "metadata": {},
   "outputs": [
    {
     "data": {
      "text/plain": [
       "(360, 24)"
      ]
     },
     "execution_count": 58,
     "metadata": {},
     "output_type": "execute_result"
    }
   ],
   "source": [
    "dfs.shape"
   ]
  },
  {
   "cell_type": "code",
   "execution_count": 59,
   "metadata": {},
   "outputs": [
    {
     "data": {
      "text/plain": [
       "Index(['userId', 'Churn', 'gender', 'level', 'count', 'Cancel',\n",
       "       'Submit Downgrade', 'Thumbs Down', 'Home', 'Downgrade', 'Roll Advert',\n",
       "       'Logout', 'Save Settings', 'Cancellation Confirmation', 'About',\n",
       "       'Settings', 'Add to Playlist', 'Add Friend', 'NextSong', 'Thumbs Up',\n",
       "       'Help', 'Upgrade', 'Error', 'Submit Upgrade'],\n",
       "      dtype='object')"
      ]
     },
     "execution_count": 59,
     "metadata": {},
     "output_type": "execute_result"
    }
   ],
   "source": [
    "dfs.columns"
   ]
  },
  {
   "cell_type": "code",
   "execution_count": 70,
   "metadata": {},
   "outputs": [
    {
     "data": {
      "text/html": [
       "<div>\n",
       "<style scoped>\n",
       "    .dataframe tbody tr th:only-of-type {\n",
       "        vertical-align: middle;\n",
       "    }\n",
       "\n",
       "    .dataframe tbody tr th {\n",
       "        vertical-align: top;\n",
       "    }\n",
       "\n",
       "    .dataframe thead th {\n",
       "        text-align: right;\n",
       "    }\n",
       "</style>\n",
       "<table border=\"1\" class=\"dataframe\">\n",
       "  <thead>\n",
       "    <tr style=\"text-align: right;\">\n",
       "      <th></th>\n",
       "      <th>userId</th>\n",
       "      <th>Churn</th>\n",
       "      <th>gender</th>\n",
       "      <th>level</th>\n",
       "      <th>count</th>\n",
       "      <th>Cancel</th>\n",
       "      <th>Submit Downgrade</th>\n",
       "      <th>Thumbs Down</th>\n",
       "      <th>Home</th>\n",
       "      <th>Downgrade</th>\n",
       "      <th>...</th>\n",
       "      <th>About</th>\n",
       "      <th>Settings</th>\n",
       "      <th>Add to Playlist</th>\n",
       "      <th>Add Friend</th>\n",
       "      <th>NextSong</th>\n",
       "      <th>Thumbs Up</th>\n",
       "      <th>Help</th>\n",
       "      <th>Upgrade</th>\n",
       "      <th>Error</th>\n",
       "      <th>Submit Upgrade</th>\n",
       "    </tr>\n",
       "  </thead>\n",
       "  <tbody>\n",
       "    <tr>\n",
       "      <th>0</th>\n",
       "      <td>200008</td>\n",
       "      <td>0</td>\n",
       "      <td>1</td>\n",
       "      <td>1</td>\n",
       "      <td>1988</td>\n",
       "      <td>0</td>\n",
       "      <td>0</td>\n",
       "      <td>52</td>\n",
       "      <td>71</td>\n",
       "      <td>24</td>\n",
       "      <td>...</td>\n",
       "      <td>9</td>\n",
       "      <td>10</td>\n",
       "      <td>45</td>\n",
       "      <td>27</td>\n",
       "      <td>1669</td>\n",
       "      <td>68</td>\n",
       "      <td>4</td>\n",
       "      <td>1</td>\n",
       "      <td>3</td>\n",
       "      <td>1</td>\n",
       "    </tr>\n",
       "    <tr>\n",
       "      <th>1</th>\n",
       "      <td>93</td>\n",
       "      <td>0</td>\n",
       "      <td>0</td>\n",
       "      <td>0</td>\n",
       "      <td>566</td>\n",
       "      <td>0</td>\n",
       "      <td>0</td>\n",
       "      <td>4</td>\n",
       "      <td>31</td>\n",
       "      <td>3</td>\n",
       "      <td>...</td>\n",
       "      <td>2</td>\n",
       "      <td>5</td>\n",
       "      <td>17</td>\n",
       "      <td>13</td>\n",
       "      <td>640</td>\n",
       "      <td>35</td>\n",
       "      <td>7</td>\n",
       "      <td>3</td>\n",
       "      <td>0</td>\n",
       "      <td>1</td>\n",
       "    </tr>\n",
       "    <tr>\n",
       "      <th>2</th>\n",
       "      <td>100013</td>\n",
       "      <td>1</td>\n",
       "      <td>1</td>\n",
       "      <td>0</td>\n",
       "      <td>303</td>\n",
       "      <td>1</td>\n",
       "      <td>0</td>\n",
       "      <td>15</td>\n",
       "      <td>53</td>\n",
       "      <td>13</td>\n",
       "      <td>...</td>\n",
       "      <td>2</td>\n",
       "      <td>7</td>\n",
       "      <td>31</td>\n",
       "      <td>28</td>\n",
       "      <td>1131</td>\n",
       "      <td>39</td>\n",
       "      <td>9</td>\n",
       "      <td>4</td>\n",
       "      <td>2</td>\n",
       "      <td>1</td>\n",
       "    </tr>\n",
       "    <tr>\n",
       "      <th>3</th>\n",
       "      <td>91</td>\n",
       "      <td>0</td>\n",
       "      <td>0</td>\n",
       "      <td>1</td>\n",
       "      <td>2862</td>\n",
       "      <td>0</td>\n",
       "      <td>0</td>\n",
       "      <td>24</td>\n",
       "      <td>90</td>\n",
       "      <td>22</td>\n",
       "      <td>...</td>\n",
       "      <td>5</td>\n",
       "      <td>12</td>\n",
       "      <td>64</td>\n",
       "      <td>42</td>\n",
       "      <td>2580</td>\n",
       "      <td>124</td>\n",
       "      <td>9</td>\n",
       "      <td>1</td>\n",
       "      <td>3</td>\n",
       "      <td>1</td>\n",
       "    </tr>\n",
       "    <tr>\n",
       "      <th>4</th>\n",
       "      <td>4</td>\n",
       "      <td>0</td>\n",
       "      <td>0</td>\n",
       "      <td>0</td>\n",
       "      <td>141</td>\n",
       "      <td>0</td>\n",
       "      <td>0</td>\n",
       "      <td>26</td>\n",
       "      <td>80</td>\n",
       "      <td>21</td>\n",
       "      <td>...</td>\n",
       "      <td>6</td>\n",
       "      <td>10</td>\n",
       "      <td>59</td>\n",
       "      <td>46</td>\n",
       "      <td>2048</td>\n",
       "      <td>95</td>\n",
       "      <td>12</td>\n",
       "      <td>4</td>\n",
       "      <td>4</td>\n",
       "      <td>1</td>\n",
       "    </tr>\n",
       "  </tbody>\n",
       "</table>\n",
       "<p>5 rows × 24 columns</p>\n",
       "</div>"
      ],
      "text/plain": [
       "   userId  Churn  gender  level  count  Cancel  Submit Downgrade  Thumbs Down  \\\n",
       "0  200008      0       1      1   1988       0                 0           52   \n",
       "1      93      0       0      0    566       0                 0            4   \n",
       "2  100013      1       1      0    303       1                 0           15   \n",
       "3      91      0       0      1   2862       0                 0           24   \n",
       "4       4      0       0      0    141       0                 0           26   \n",
       "\n",
       "   Home  Downgrade       ...        About  Settings  Add to Playlist  \\\n",
       "0    71         24       ...            9        10               45   \n",
       "1    31          3       ...            2         5               17   \n",
       "2    53         13       ...            2         7               31   \n",
       "3    90         22       ...            5        12               64   \n",
       "4    80         21       ...            6        10               59   \n",
       "\n",
       "   Add Friend  NextSong  Thumbs Up  Help  Upgrade  Error  Submit Upgrade  \n",
       "0          27      1669         68     4        1      3               1  \n",
       "1          13       640         35     7        3      0               1  \n",
       "2          28      1131         39     9        4      2               1  \n",
       "3          42      2580        124     9        1      3               1  \n",
       "4          46      2048         95    12        4      4               1  \n",
       "\n",
       "[5 rows x 24 columns]"
      ]
     },
     "execution_count": 70,
     "metadata": {},
     "output_type": "execute_result"
    }
   ],
   "source": [
    "dfs.head()"
   ]
  },
  {
   "cell_type": "code",
   "execution_count": 76,
   "metadata": {},
   "outputs": [
    {
     "data": {
      "text/html": [
       "<div>\n",
       "<style scoped>\n",
       "    .dataframe tbody tr th:only-of-type {\n",
       "        vertical-align: middle;\n",
       "    }\n",
       "\n",
       "    .dataframe tbody tr th {\n",
       "        vertical-align: top;\n",
       "    }\n",
       "\n",
       "    .dataframe thead th {\n",
       "        text-align: right;\n",
       "    }\n",
       "</style>\n",
       "<table border=\"1\" class=\"dataframe\">\n",
       "  <thead>\n",
       "    <tr style=\"text-align: right;\">\n",
       "      <th></th>\n",
       "      <th>Churn</th>\n",
       "    </tr>\n",
       "  </thead>\n",
       "  <tbody>\n",
       "    <tr>\n",
       "      <th>userId</th>\n",
       "      <td>0.049490</td>\n",
       "    </tr>\n",
       "    <tr>\n",
       "      <th>Churn</th>\n",
       "      <td>1.000000</td>\n",
       "    </tr>\n",
       "    <tr>\n",
       "      <th>gender</th>\n",
       "      <td>-0.069920</td>\n",
       "    </tr>\n",
       "    <tr>\n",
       "      <th>level</th>\n",
       "      <td>-0.021047</td>\n",
       "    </tr>\n",
       "    <tr>\n",
       "      <th>count</th>\n",
       "      <td>-0.118789</td>\n",
       "    </tr>\n",
       "    <tr>\n",
       "      <th>Cancel</th>\n",
       "      <td>1.000000</td>\n",
       "    </tr>\n",
       "    <tr>\n",
       "      <th>Submit Downgrade</th>\n",
       "      <td>-0.111321</td>\n",
       "    </tr>\n",
       "    <tr>\n",
       "      <th>Thumbs Down</th>\n",
       "      <td>-0.078181</td>\n",
       "    </tr>\n",
       "    <tr>\n",
       "      <th>Home</th>\n",
       "      <td>-0.151020</td>\n",
       "    </tr>\n",
       "    <tr>\n",
       "      <th>Downgrade</th>\n",
       "      <td>-0.126148</td>\n",
       "    </tr>\n",
       "    <tr>\n",
       "      <th>Roll Advert</th>\n",
       "      <td>0.016910</td>\n",
       "    </tr>\n",
       "    <tr>\n",
       "      <th>Logout</th>\n",
       "      <td>-0.132401</td>\n",
       "    </tr>\n",
       "    <tr>\n",
       "      <th>Save Settings</th>\n",
       "      <td>-0.073539</td>\n",
       "    </tr>\n",
       "    <tr>\n",
       "      <th>Cancellation Confirmation</th>\n",
       "      <td>1.000000</td>\n",
       "    </tr>\n",
       "    <tr>\n",
       "      <th>About</th>\n",
       "      <td>-0.206812</td>\n",
       "    </tr>\n",
       "    <tr>\n",
       "      <th>Settings</th>\n",
       "      <td>-0.124429</td>\n",
       "    </tr>\n",
       "    <tr>\n",
       "      <th>Add to Playlist</th>\n",
       "      <td>-0.155817</td>\n",
       "    </tr>\n",
       "    <tr>\n",
       "      <th>Add Friend</th>\n",
       "      <td>-0.190915</td>\n",
       "    </tr>\n",
       "    <tr>\n",
       "      <th>NextSong</th>\n",
       "      <td>-0.161532</td>\n",
       "    </tr>\n",
       "    <tr>\n",
       "      <th>Thumbs Up</th>\n",
       "      <td>-0.177129</td>\n",
       "    </tr>\n",
       "    <tr>\n",
       "      <th>Help</th>\n",
       "      <td>-0.147053</td>\n",
       "    </tr>\n",
       "    <tr>\n",
       "      <th>Upgrade</th>\n",
       "      <td>-0.013654</td>\n",
       "    </tr>\n",
       "    <tr>\n",
       "      <th>Error</th>\n",
       "      <td>-0.194633</td>\n",
       "    </tr>\n",
       "    <tr>\n",
       "      <th>Submit Upgrade</th>\n",
       "      <td>-0.077897</td>\n",
       "    </tr>\n",
       "  </tbody>\n",
       "</table>\n",
       "</div>"
      ],
      "text/plain": [
       "                              Churn\n",
       "userId                     0.049490\n",
       "Churn                      1.000000\n",
       "gender                    -0.069920\n",
       "level                     -0.021047\n",
       "count                     -0.118789\n",
       "Cancel                     1.000000\n",
       "Submit Downgrade          -0.111321\n",
       "Thumbs Down               -0.078181\n",
       "Home                      -0.151020\n",
       "Downgrade                 -0.126148\n",
       "Roll Advert                0.016910\n",
       "Logout                    -0.132401\n",
       "Save Settings             -0.073539\n",
       "Cancellation Confirmation  1.000000\n",
       "About                     -0.206812\n",
       "Settings                  -0.124429\n",
       "Add to Playlist           -0.155817\n",
       "Add Friend                -0.190915\n",
       "NextSong                  -0.161532\n",
       "Thumbs Up                 -0.177129\n",
       "Help                      -0.147053\n",
       "Upgrade                   -0.013654\n",
       "Error                     -0.194633\n",
       "Submit Upgrade            -0.077897"
      ]
     },
     "execution_count": 76,
     "metadata": {},
     "output_type": "execute_result"
    }
   ],
   "source": [
    "dfs.corr()[1:2].transpose() "
   ]
  },
  {
   "cell_type": "code",
   "execution_count": 69,
   "metadata": {},
   "outputs": [
    {
     "data": {
      "image/png": "[encoded data removed]",
      "text/plain": [
       "<matplotlib.figure.Figure at 0x7fb7ca6cb1d0>"
      ]
     },
     "metadata": {
      "needs_background": "light"
     },
     "output_type": "display_data"
    }
   ],
   "source": [
    "plt.figure(figsize=(9,6))\n",
    "sns.heatmap(dfs.corr());"
   ]
  },
  {
   "cell_type": "code",
   "execution_count": 84,
   "metadata": {},
   "outputs": [
    {
     "data": {
      "text/plain": [
       "0    278\n",
       "1     82\n",
       "Name: Churn, dtype: int64"
      ]
     },
     "execution_count": 84,
     "metadata": {},
     "output_type": "execute_result"
    }
   ],
   "source": [
    "dfs.Churn.value_counts()"
   ]
  },
  {
   "cell_type": "code",
   "execution_count": 168,
   "metadata": {},
   "outputs": [
    {
     "name": "stdout",
     "output_type": "stream",
     "text": [
      "<class 'pandas.core.frame.DataFrame'>\n",
      "RangeIndex: 360 entries, 0 to 359\n",
      "Data columns (total 24 columns):\n",
      "userId                       360 non-null int32\n",
      "Churn                        360 non-null int32\n",
      "gender                       360 non-null int32\n",
      "level                        360 non-null int32\n",
      "count                        360 non-null int64\n",
      "Cancel                       360 non-null int64\n",
      "Submit Downgrade             360 non-null int64\n",
      "Thumbs Down                  360 non-null int64\n",
      "Home                         360 non-null int64\n",
      "Downgrade                    360 non-null int64\n",
      "Roll Advert                  360 non-null int64\n",
      "Logout                       360 non-null int64\n",
      "Save Settings                360 non-null int64\n",
      "Cancellation Confirmation    360 non-null int64\n",
      "About                        360 non-null int64\n",
      "Settings                     360 non-null int64\n",
      "Add to Playlist              360 non-null int64\n",
      "Add Friend                   360 non-null int64\n",
      "NextSong                     360 non-null int64\n",
      "Thumbs Up                    360 non-null int64\n",
      "Help                         360 non-null int64\n",
      "Upgrade                      360 non-null int64\n",
      "Error                        360 non-null int64\n",
      "Submit Upgrade               360 non-null int64\n",
      "dtypes: int32(4), int64(20)\n",
      "memory usage: 62.0 KB\n"
     ]
    }
   ],
   "source": [
    "dfs.info()"
   ]
  },
  {
   "cell_type": "code",
   "execution_count": null,
   "metadata": {},
   "outputs": [],
   "source": []
  },
  {
   "cell_type": "code",
   "execution_count": 108,
   "metadata": {},
   "outputs": [],
   "source": [
    "X = dfs.drop(columns=['userId','Churn', 'Cancel', 'Cancellation Confirmation', 'count'],axis=1)\n",
    "y = dfs['Churn']\n",
    "from sklearn.model_selection import train_test_split\n",
    "X_train, X_test, y_train, y_test = train_test_split(X, y, test_size=0.30, random_state=33)"
   ]
  },
  {
   "cell_type": "code",
   "execution_count": 109,
   "metadata": {},
   "outputs": [
    {
     "data": {
      "text/html": [
       "<div>\n",
       "<style scoped>\n",
       "    .dataframe tbody tr th:only-of-type {\n",
       "        vertical-align: middle;\n",
       "    }\n",
       "\n",
       "    .dataframe tbody tr th {\n",
       "        vertical-align: top;\n",
       "    }\n",
       "\n",
       "    .dataframe thead th {\n",
       "        text-align: right;\n",
       "    }\n",
       "</style>\n",
       "<table border=\"1\" class=\"dataframe\">\n",
       "  <thead>\n",
       "    <tr style=\"text-align: right;\">\n",
       "      <th></th>\n",
       "      <th>gender</th>\n",
       "      <th>level</th>\n",
       "      <th>Submit Downgrade</th>\n",
       "      <th>Thumbs Down</th>\n",
       "      <th>Home</th>\n",
       "      <th>Downgrade</th>\n",
       "      <th>Roll Advert</th>\n",
       "      <th>Logout</th>\n",
       "      <th>Save Settings</th>\n",
       "      <th>About</th>\n",
       "      <th>Settings</th>\n",
       "      <th>Add to Playlist</th>\n",
       "      <th>Add Friend</th>\n",
       "      <th>NextSong</th>\n",
       "      <th>Thumbs Up</th>\n",
       "      <th>Help</th>\n",
       "      <th>Upgrade</th>\n",
       "      <th>Error</th>\n",
       "      <th>Submit Upgrade</th>\n",
       "    </tr>\n",
       "  </thead>\n",
       "  <tbody>\n",
       "    <tr>\n",
       "      <th>0</th>\n",
       "      <td>1</td>\n",
       "      <td>1</td>\n",
       "      <td>0</td>\n",
       "      <td>52</td>\n",
       "      <td>71</td>\n",
       "      <td>24</td>\n",
       "      <td>4</td>\n",
       "      <td>22</td>\n",
       "      <td>2</td>\n",
       "      <td>9</td>\n",
       "      <td>10</td>\n",
       "      <td>45</td>\n",
       "      <td>27</td>\n",
       "      <td>1669</td>\n",
       "      <td>68</td>\n",
       "      <td>4</td>\n",
       "      <td>1</td>\n",
       "      <td>3</td>\n",
       "      <td>1</td>\n",
       "    </tr>\n",
       "    <tr>\n",
       "      <th>1</th>\n",
       "      <td>0</td>\n",
       "      <td>0</td>\n",
       "      <td>0</td>\n",
       "      <td>4</td>\n",
       "      <td>31</td>\n",
       "      <td>3</td>\n",
       "      <td>43</td>\n",
       "      <td>10</td>\n",
       "      <td>1</td>\n",
       "      <td>2</td>\n",
       "      <td>5</td>\n",
       "      <td>17</td>\n",
       "      <td>13</td>\n",
       "      <td>640</td>\n",
       "      <td>35</td>\n",
       "      <td>7</td>\n",
       "      <td>3</td>\n",
       "      <td>0</td>\n",
       "      <td>1</td>\n",
       "    </tr>\n",
       "    <tr>\n",
       "      <th>2</th>\n",
       "      <td>1</td>\n",
       "      <td>0</td>\n",
       "      <td>0</td>\n",
       "      <td>15</td>\n",
       "      <td>53</td>\n",
       "      <td>13</td>\n",
       "      <td>39</td>\n",
       "      <td>13</td>\n",
       "      <td>3</td>\n",
       "      <td>2</td>\n",
       "      <td>7</td>\n",
       "      <td>31</td>\n",
       "      <td>28</td>\n",
       "      <td>1131</td>\n",
       "      <td>39</td>\n",
       "      <td>9</td>\n",
       "      <td>4</td>\n",
       "      <td>2</td>\n",
       "      <td>1</td>\n",
       "    </tr>\n",
       "  </tbody>\n",
       "</table>\n",
       "</div>"
      ],
      "text/plain": [
       "   gender  level  Submit Downgrade  Thumbs Down  Home  Downgrade  Roll Advert  \\\n",
       "0       1      1                 0           52    71         24            4   \n",
       "1       0      0                 0            4    31          3           43   \n",
       "2       1      0                 0           15    53         13           39   \n",
       "\n",
       "   Logout  Save Settings  About  Settings  Add to Playlist  Add Friend  \\\n",
       "0      22              2      9        10               45          27   \n",
       "1      10              1      2         5               17          13   \n",
       "2      13              3      2         7               31          28   \n",
       "\n",
       "   NextSong  Thumbs Up  Help  Upgrade  Error  Submit Upgrade  \n",
       "0      1669         68     4        1      3               1  \n",
       "1       640         35     7        3      0               1  \n",
       "2      1131         39     9        4      2               1  "
      ]
     },
     "execution_count": 109,
     "metadata": {},
     "output_type": "execute_result"
    }
   ],
   "source": [
    "X.head(3)"
   ]
  },
  {
   "cell_type": "markdown",
   "metadata": {},
   "source": [
    "## Logistic Regression Model"
   ]
  },
  {
   "cell_type": "code",
   "execution_count": 149,
   "metadata": {},
   "outputs": [
    {
     "name": "stdout",
     "output_type": "stream",
     "text": [
      "             precision    recall  f1-score   support\n",
      "\n",
      "          0       0.81      0.93      0.87        87\n",
      "          1       0.25      0.10      0.14        21\n",
      "\n",
      "avg / total       0.70      0.77      0.72       108\n",
      "\n",
      "[[81  6]\n",
      " [19  2]]\n",
      "Accuracy : 0.768518518519\n",
      "F1 Score : 0.137931034483\n",
      "Area Under the Curve 0.513136288998\n"
     ]
    }
   ],
   "source": [
    "#logistics Regression Model\n",
    "from sklearn.metrics import roc_auc_score\n",
    "from sklearn.linear_model import LogisticRegression\n",
    "logmodel = LogisticRegression()\n",
    "logmodel.fit(X_train,y_train)\n",
    "predictions = logmodel.predict(X_test)\n",
    "from sklearn.metrics import classification_report\n",
    "print(classification_report(y_test,predictions))\n",
    "print(confusion_matrix(y_test,predictions))\n",
    "print(\"Accuracy :\",accuracy_score(y_test, predictions))\n",
    "print(\"F1 Score :\",f1_score(y_test, predictions))\n",
    "print(\"Area Under the Curve\",roc_auc_score(y_test, predictions))"
   ]
  },
  {
   "cell_type": "markdown",
   "metadata": {},
   "source": [
    "## Decision Tree Classification Model"
   ]
  },
  {
   "cell_type": "code",
   "execution_count": 150,
   "metadata": {},
   "outputs": [
    {
     "name": "stdout",
     "output_type": "stream",
     "text": [
      "             precision    recall  f1-score   support\n",
      "\n",
      "          0       0.94      0.89      0.91        87\n",
      "          1       0.62      0.76      0.68        21\n",
      "\n",
      "avg / total       0.88      0.86      0.87       108\n",
      "\n",
      "[[77 10]\n",
      " [ 5 16]]\n",
      "Accuracy : 0.861111111111\n",
      "F1 Score : 0.68085106383\n",
      "Area Under the Curve 0.823481116585\n"
     ]
    }
   ],
   "source": [
    "from sklearn.tree import DecisionTreeClassifier\n",
    "from sklearn.metrics import classification_report,confusion_matrix, accuracy_score, recall_score, f1_score\n",
    "\n",
    "dtree = DecisionTreeClassifier()\n",
    "dtree.fit(X_train,y_train)\n",
    "predictions = dtree.predict(X_test)\n",
    "\n",
    "print(classification_report(y_test,predictions))\n",
    "print(confusion_matrix(y_test,predictions))\n",
    "print(\"Accuracy :\",accuracy_score(y_test, predictions))\n",
    "print(\"F1 Score :\",f1_score(y_test, predictions))\n",
    "print(\"Area Under the Curve\",roc_auc_score(y_test, predictions))\n"
   ]
  },
  {
   "cell_type": "markdown",
   "metadata": {},
   "source": [
    "## Random Forest Classification Model"
   ]
  },
  {
   "cell_type": "code",
   "execution_count": 154,
   "metadata": {},
   "outputs": [
    {
     "name": "stdout",
     "output_type": "stream",
     "text": [
      "             precision    recall  f1-score   support\n",
      "\n",
      "          0       0.96      1.00      0.98        87\n",
      "          1       1.00      0.81      0.89        21\n",
      "\n",
      "avg / total       0.96      0.96      0.96       108\n",
      "\n",
      "[[87  0]\n",
      " [ 4 17]]\n",
      "Accuracy : 0.962962962963\n",
      "F1 Score : 0.894736842105\n",
      "Area Under the Curve 0.904761904762\n"
     ]
    }
   ],
   "source": [
    "from sklearn.ensemble import RandomForestClassifier\n",
    "from sklearn.metrics import classification_report,confusion_matrix\n",
    "\n",
    "rfc = RandomForestClassifier(n_estimators=300)\n",
    "rfc.fit(X_train,y_train)\n",
    "predictions = rfc.predict(X_test)\n",
    "\n",
    "print(classification_report(y_test,predictions))\n",
    "print(confusion_matrix(y_test,predictions))\n",
    "print(\"Accuracy :\",accuracy_score(y_test, predictions))\n",
    "print(\"F1 Score :\",f1_score(y_test, predictions))\n",
    "print(\"Area Under the Curve\",roc_auc_score(y_test, predictions))"
   ]
  },
  {
   "cell_type": "markdown",
   "metadata": {},
   "source": [
    "**Based on all above ML Models, Random Forest performs better than others.**"
   ]
  },
  {
   "cell_type": "markdown",
   "metadata": {},
   "source": [
    "## Modelling on PySpark"
   ]
  },
  {
   "cell_type": "code",
   "execution_count": 128,
   "metadata": {},
   "outputs": [],
   "source": [
    "# dropping columns \"cancel\", \"Cancellation Confirmation\", \"count\".\n",
    "columns_to_drop = [\"cancel\", \"Cancellation Confirmation\", \"count\"] \n",
    "df_sparkify = df_sparkify.drop(*columns_to_drop)"
   ]
  },
  {
   "cell_type": "code",
   "execution_count": 132,
   "metadata": {},
   "outputs": [
    {
     "data": {
      "text/plain": [
       "['gender',\n",
       " 'level',\n",
       " 'Submit Downgrade',\n",
       " 'Thumbs Down',\n",
       " 'Home',\n",
       " 'Downgrade',\n",
       " 'Roll Advert',\n",
       " 'Logout',\n",
       " 'Save Settings',\n",
       " 'About',\n",
       " 'Settings',\n",
       " 'Add to Playlist',\n",
       " 'Add Friend',\n",
       " 'NextSong',\n",
       " 'Thumbs Up',\n",
       " 'Help',\n",
       " 'Upgrade',\n",
       " 'Error',\n",
       " 'Submit Upgrade']"
      ]
     },
     "execution_count": 132,
     "metadata": {},
     "output_type": "execute_result"
    }
   ],
   "source": [
    "df_sparkify.columns[2:]"
   ]
  },
  {
   "cell_type": "code",
   "execution_count": 169,
   "metadata": {},
   "outputs": [
    {
     "name": "stdout",
     "output_type": "stream",
     "text": [
      "root\n",
      " |-- userId: integer (nullable = true)\n",
      " |-- Churn: integer (nullable = true)\n",
      " |-- gender: integer (nullable = true)\n",
      " |-- level: integer (nullable = true)\n",
      " |-- Submit Downgrade: long (nullable = true)\n",
      " |-- Thumbs Down: long (nullable = true)\n",
      " |-- Home: long (nullable = true)\n",
      " |-- Downgrade: long (nullable = true)\n",
      " |-- Roll Advert: long (nullable = true)\n",
      " |-- Logout: long (nullable = true)\n",
      " |-- Save Settings: long (nullable = true)\n",
      " |-- About: long (nullable = true)\n",
      " |-- Settings: long (nullable = true)\n",
      " |-- Add to Playlist: long (nullable = true)\n",
      " |-- Add Friend: long (nullable = true)\n",
      " |-- NextSong: long (nullable = true)\n",
      " |-- Thumbs Up: long (nullable = true)\n",
      " |-- Help: long (nullable = true)\n",
      " |-- Upgrade: long (nullable = true)\n",
      " |-- Error: long (nullable = true)\n",
      " |-- Submit Upgrade: long (nullable = true)\n",
      "\n"
     ]
    }
   ],
   "source": [
    "df_sparkify.printSchema()"
   ]
  },
  {
   "cell_type": "markdown",
   "metadata": {},
   "source": [
    "#### Machine Learning Code Starts:"
   ]
  },
  {
   "cell_type": "code",
   "execution_count": 201,
   "metadata": {},
   "outputs": [],
   "source": [
    "assembler = VectorAssembler(inputCols=df_sparkify.columns[2:],outputCol=\"features\")"
   ]
  },
  {
   "cell_type": "code",
   "execution_count": 203,
   "metadata": {},
   "outputs": [],
   "source": [
    "output = assembler.transform(df_sparkify)\n",
    "final_data = output.select('features', 'Churn')"
   ]
  },
  {
   "cell_type": "code",
   "execution_count": 204,
   "metadata": {},
   "outputs": [],
   "source": [
    "train_data,test_data = final_data.randomSplit([0.7,0.3])"
   ]
  },
  {
   "cell_type": "code",
   "execution_count": 205,
   "metadata": {},
   "outputs": [],
   "source": [
    "from pyspark.ml.classification import DecisionTreeClassifier,GBTClassifier,RandomForestClassifier\n",
    "from pyspark.ml import Pipeline"
   ]
  },
  {
   "cell_type": "code",
   "execution_count": 263,
   "metadata": {},
   "outputs": [],
   "source": [
    "# Using three classifiers before finalizing best performer\n",
    "\n",
    "#dtc = DecisionTreeClassifier(labelCol='Churn',featuresCol='features')\n",
    "rfc = RandomForestClassifier(labelCol='Churn',featuresCol='features', numTrees=300)\n",
    "#gbt = GBTClassifier(labelCol='Churn',featuresCol='features')"
   ]
  },
  {
   "cell_type": "code",
   "execution_count": 264,
   "metadata": {},
   "outputs": [],
   "source": [
    "# Train the models - Will run for some time\n",
    "#dtc_model = dtc.fit(train_data)\n",
    "rfc_model = rfc.fit(train_data)\n",
    "#gbt_model = gbt.fit(train_data)"
   ]
  },
  {
   "cell_type": "markdown",
   "metadata": {},
   "source": [
    "#### Model Comparison\n",
    "\n",
    "Let's compare each of these models!"
   ]
  },
  {
   "cell_type": "code",
   "execution_count": 265,
   "metadata": {},
   "outputs": [],
   "source": [
    "#dtc_predictions = dtc_model.transform(test_data)\n",
    "rfc_predictions = rfc_model.transform(test_data)\n",
    "#gbt_predictions = gbt_model.transform(test_data)"
   ]
  },
  {
   "cell_type": "markdown",
   "metadata": {},
   "source": [
    "##### Evaluation Metrics:"
   ]
  },
  {
   "cell_type": "code",
   "execution_count": 210,
   "metadata": {},
   "outputs": [],
   "source": [
    "from pyspark.ml.evaluation import MulticlassClassificationEvaluator"
   ]
  },
  {
   "cell_type": "code",
   "execution_count": 211,
   "metadata": {},
   "outputs": [],
   "source": [
    "# calculating accuracy\n",
    "acc_evaluator = MulticlassClassificationEvaluator(labelCol=\"Churn\", \n",
    "                                                  predictionCol=\"prediction\", \n",
    "                                                  metricName=\"accuracy\")\n",
    "# calculating f1 score\n",
    "f1_evaluator = MulticlassClassificationEvaluator(labelCol=\"Churn\", \n",
    "                                                  predictionCol=\"prediction\", \n",
    "                                                  metricName=\"f1\")\n"
   ]
  },
  {
   "cell_type": "code",
   "execution_count": 266,
   "metadata": {},
   "outputs": [],
   "source": [
    "#dtc_acc = acc_evaluator.evaluate(dtc_predictions)\n",
    "rfc_acc = acc_evaluator.evaluate(rfc_predictions)\n",
    "#gbt_acc = acc_evaluator.evaluate(gbt_predictions)"
   ]
  },
  {
   "cell_type": "code",
   "execution_count": 267,
   "metadata": {},
   "outputs": [],
   "source": [
    "#dtc_f1 = f1_evaluator.evaluate(dtc_predictions)\n",
    "rfc_f1 = f1_evaluator.evaluate(rfc_predictions)\n",
    "#gbt_f1 = f1_evaluator.evaluate(gbt_predictions)"
   ]
  },
  {
   "cell_type": "code",
   "execution_count": 271,
   "metadata": {},
   "outputs": [
    {
     "name": "stdout",
     "output_type": "stream",
     "text": [
      "Here are the results!\n",
      "--------------------------------------------------------------------------------\n",
      "A single decision tree had an accuracy of: 80.00%\n",
      "--------------------------------------------------------------------------------\n",
      "A random forest ensemble had an accuracy of: 80.00%\n",
      "--------------------------------------------------------------------------------\n",
      "A ensemble using GBT had an accuracy of: 85.00%\n"
     ]
    }
   ],
   "source": [
    "print(\"Here are the results!\")\n",
    "print('-'*80)\n",
    "print('A single decision tree had an accuracy of: {0:2.2f}%'.format(dtc_acc*100))\n",
    "print('-'*80)\n",
    "print('A random forest ensemble had an accuracy of: {0:2.2f}%'.format(rfc_acc*100))\n",
    "print('-'*80)\n",
    "print('A ensemble using GBT had an accuracy of: {0:2.2f}%'.format(gbt_acc*100))"
   ]
  },
  {
   "cell_type": "code",
   "execution_count": 272,
   "metadata": {},
   "outputs": [
    {
     "name": "stdout",
     "output_type": "stream",
     "text": [
      "Here are the results!\n",
      "--------------------------------------------------------------------------------\n",
      "A single decision tree had F1 Score of: 76.96%\n",
      "--------------------------------------------------------------------------------\n",
      "A random forest ensemble had F1 Score of: 72.80%\n",
      "--------------------------------------------------------------------------------\n",
      "A ensemble using GBT had F1 Score of: 85.12%\n"
     ]
    }
   ],
   "source": [
    "print(\"Here are the results!\")\n",
    "print('-'*80)\n",
    "print('A single decision tree had F1 Score of: {0:2.2f}%'.format(dtc_f1*100))\n",
    "print('-'*80)\n",
    "print('A random forest ensemble had F1 Score of: {0:2.2f}%'.format(rfc_f1*100))\n",
    "print('-'*80)\n",
    "print('A ensemble using GBT had F1 Score of: {0:2.2f}%'.format(gbt_f1*100))"
   ]
  },
  {
   "cell_type": "code",
   "execution_count": 218,
   "metadata": {},
   "outputs": [],
   "source": [
    "binary_evaluator = BinaryClassificationEvaluator(labelCol='Churn')\n",
    "binary_evaluator2 = BinaryClassificationEvaluator(labelCol='Churn', metricName='areaUnderPR')\n"
   ]
  },
  {
   "cell_type": "code",
   "execution_count": 268,
   "metadata": {},
   "outputs": [],
   "source": [
    "#dtc_auc = binary_evaluator.evaluate(dtc_predictions)\n",
    "rfc_auc = binary_evaluator.evaluate(rfc_predictions)\n",
    "#gbt_auc = binary_evaluator.evaluate(gbt_predictions)"
   ]
  },
  {
   "cell_type": "code",
   "execution_count": 273,
   "metadata": {},
   "outputs": [
    {
     "name": "stdout",
     "output_type": "stream",
     "text": [
      "Here are the results!\n",
      "--------------------------------------------------------------------------------\n",
      "A single decision tree had Area Under the Curve Score of: 54.31%\n",
      "--------------------------------------------------------------------------------\n",
      "A random forest ensemble had Area Under the Curve Score of: 81.64%\n",
      "--------------------------------------------------------------------------------\n",
      "A ensemble using GBT had Area Under the Curve Score of: 80.48%\n"
     ]
    }
   ],
   "source": [
    "print(\"Here are the results!\")\n",
    "print('-'*80)\n",
    "print('A single decision tree had Area Under the Curve Score of: {0:2.2f}%'.format(dtc_auc*100))\n",
    "print('-'*80)\n",
    "print('A random forest ensemble had Area Under the Curve Score of: {0:2.2f}%'.format(rfc_auc*100))\n",
    "print('-'*80)\n",
    "print('A ensemble using GBT had Area Under the Curve Score of: {0:2.2f}%'.format(gbt_auc*100))"
   ]
  },
  {
   "cell_type": "code",
   "execution_count": 269,
   "metadata": {},
   "outputs": [],
   "source": [
    "#dtc_aupr = binary_evaluator2.evaluate(dtc_predictions)\n",
    "rfc_aupr = binary_evaluator2.evaluate(rfc_predictions)\n",
    "#gbt_aupr = binary_evaluator2.evaluate(gbt_predictions)"
   ]
  },
  {
   "cell_type": "code",
   "execution_count": 274,
   "metadata": {},
   "outputs": [
    {
     "name": "stdout",
     "output_type": "stream",
     "text": [
      "Here are the results!\n",
      "--------------------------------------------------------------------------------\n",
      "A single decision tree had Area Under Precision-Recall Curve: 22.52%\n",
      "--------------------------------------------------------------------------------\n",
      "A random forest ensemble had Area Under Precision-Recall Curve: 59.89%\n",
      "--------------------------------------------------------------------------------\n",
      "A ensemble using GBT had Area Under Precision-Recall Curve: 50.63%\n"
     ]
    }
   ],
   "source": [
    "print(\"Here are the results!\")\n",
    "print('-'*80)\n",
    "print('A single decision tree had Area Under Precision-Recall Curve: {0:2.2f}%'.format(dtc_aupr*100))\n",
    "print('-'*80)\n",
    "print('A random forest ensemble had Area Under Precision-Recall Curve: {0:2.2f}%'.format(rfc_aupr*100))\n",
    "print('-'*80)\n",
    "print('A ensemble using GBT had Area Under Precision-Recall Curve: {0:2.2f}%'.format(gbt_aupr*100))"
   ]
  },
  {
   "cell_type": "code",
   "execution_count": null,
   "metadata": {},
   "outputs": [],
   "source": []
  },
  {
   "cell_type": "code",
   "execution_count": null,
   "metadata": {},
   "outputs": [],
   "source": []
  },
  {
   "cell_type": "code",
   "execution_count": 248,
   "metadata": {},
   "outputs": [
    {
     "name": "stdout",
     "output_type": "stream",
     "text": [
      "             precision    recall  f1-score   support\n",
      "\n",
      "          0       0.91      0.90      0.90        78\n",
      "          1       0.65      0.68      0.67        22\n",
      "\n",
      "avg / total       0.85      0.85      0.85       100\n",
      "\n"
     ]
    },
    {
     "data": {
      "text/plain": [
       "array([[70,  8],\n",
       "       [ 7, 15]])"
      ]
     },
     "execution_count": 248,
     "metadata": {},
     "output_type": "execute_result"
    }
   ],
   "source": [
    "# Confusion Matrix for Gradient Boosting Algo\n",
    "df_gbt = gbt_predictions.select(['Churn', 'prediction']).toPandas()\n",
    "print(classification_report(df_gbt['Churn'], df_gbt['prediction']))\n",
    "confusion_matrix(df_gbt['Churn'], df_gbt['prediction'])"
   ]
  },
  {
   "cell_type": "code",
   "execution_count": 249,
   "metadata": {},
   "outputs": [
    {
     "data": {
      "text/html": [
       "<div>\n",
       "<style scoped>\n",
       "    .dataframe tbody tr th:only-of-type {\n",
       "        vertical-align: middle;\n",
       "    }\n",
       "\n",
       "    .dataframe tbody tr th {\n",
       "        vertical-align: top;\n",
       "    }\n",
       "\n",
       "    .dataframe thead th {\n",
       "        text-align: right;\n",
       "    }\n",
       "</style>\n",
       "<table border=\"1\" class=\"dataframe\">\n",
       "  <thead>\n",
       "    <tr style=\"text-align: right;\">\n",
       "      <th></th>\n",
       "      <th>prediction</th>\n",
       "    </tr>\n",
       "    <tr>\n",
       "      <th>Churn</th>\n",
       "      <th></th>\n",
       "    </tr>\n",
       "  </thead>\n",
       "  <tbody>\n",
       "    <tr>\n",
       "      <th>0</th>\n",
       "      <td>78</td>\n",
       "    </tr>\n",
       "    <tr>\n",
       "      <th>1</th>\n",
       "      <td>22</td>\n",
       "    </tr>\n",
       "  </tbody>\n",
       "</table>\n",
       "</div>"
      ],
      "text/plain": [
       "       prediction\n",
       "Churn            \n",
       "0              78\n",
       "1              22"
      ]
     },
     "execution_count": 249,
     "metadata": {},
     "output_type": "execute_result"
    }
   ],
   "source": [
    "df_gbt.groupby('Churn').count()"
   ]
  },
  {
   "cell_type": "code",
   "execution_count": 261,
   "metadata": {},
   "outputs": [
    {
     "name": "stdout",
     "output_type": "stream",
     "text": [
      "             precision    recall  f1-score   support\n",
      "\n",
      "          0       0.80      1.00      0.89        78\n",
      "          1       1.00      0.09      0.17        22\n",
      "\n",
      "avg / total       0.84      0.80      0.73       100\n",
      "\n"
     ]
    },
    {
     "data": {
      "text/plain": [
       "array([[78,  0],\n",
       "       [20,  2]])"
      ]
     },
     "execution_count": 261,
     "metadata": {},
     "output_type": "execute_result"
    }
   ],
   "source": [
    "# Confusion Matrix for Random Forest\n",
    "df_rfc = rfc_predictions.select(['Churn', 'prediction']).toPandas()\n",
    "print(classification_report(df_rfc['Churn'], df_rfc['prediction']))\n",
    "confusion_matrix(df_rfc['Churn'], df_rfc['prediction'])"
   ]
  },
  {
   "cell_type": "markdown",
   "metadata": {},
   "source": [
    "**Based on above results Gradient Boosting Algorithm performs better to predict Churn Class users profiles.**"
   ]
  },
  {
   "cell_type": "code",
   "execution_count": 159,
   "metadata": {},
   "outputs": [
    {
     "data": {
      "text/plain": [
       "SparseVector(19, {0: 0.009, 1: 0.0031, 2: 0.0036, 3: 0.0838, 4: 0.048, 5: 0.0615, 6: 0.0635, 7: 0.0545, 8: 0.0147, 9: 0.081, 10: 0.0854, 11: 0.0733, 12: 0.152, 13: 0.046, 14: 0.0788, 15: 0.0246, 16: 0.0588, 17: 0.0327, 18: 0.0258})"
      ]
     },
     "execution_count": 159,
     "metadata": {},
     "output_type": "execute_result"
    }
   ],
   "source": [
    "rfc_fit.featureImportances"
   ]
  },
  {
   "cell_type": "markdown",
   "metadata": {},
   "source": [
    "### Preliminary Analysis and Test Run Completed here. I will combine the above steps and run them on AWS Spark Cluster."
   ]
  },
  {
   "cell_type": "code",
   "execution_count": null,
   "metadata": {},
   "outputs": [],
   "source": []
  },
  {
   "cell_type": "code",
   "execution_count": null,
   "metadata": {},
   "outputs": [],
   "source": []
  },
  {
   "cell_type": "markdown",
   "metadata": {},
   "source": [
    "# Final Steps\n",
    "Clean up your code, adding comments and renaming variables to make the code easier to read and maintain. Refer to the Spark Project Overview page and Data Scientist Capstone Project Rubric to make sure you are including all components of the capstone project and meet all expectations. Remember, this includes thorough documentation in a README file in a Github repository, as well as a web app or blog post."
   ]
  },
  {
   "cell_type": "code",
   "execution_count": null,
   "metadata": {},
   "outputs": [],
   "source": []
  }
 ],
 "metadata": {
  "kernelspec": {
   "display_name": "Python 3",
   "language": "python",
   "name": "python3"
  },
  "language_info": {
   "codemirror_mode": {
    "name": "ipython",
    "version": 3
   },
   "file_extension": ".py",
   "mimetype": "text/x-python",
   "name": "python",
   "nbconvert_exporter": "python",
   "pygments_lexer": "ipython3",
   "version": "3.6.3"
  }
 },
 "nbformat": 4,
 "nbformat_minor": 2
}
